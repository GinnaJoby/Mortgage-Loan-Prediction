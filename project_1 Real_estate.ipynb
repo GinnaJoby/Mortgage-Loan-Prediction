{
 "cells": [
  {
   "cell_type": "code",
   "execution_count": 1,
   "id": "c2ec6900",
   "metadata": {},
   "outputs": [],
   "source": [
    "import pandas as pd\n",
    "import numpy as np\n",
    "import matplotlib.pyplot as plt\n",
    "import seaborn as sns\n",
    "from math import sqrt as sqrt"
   ]
  },
  {
   "cell_type": "markdown",
   "id": "9ba67236",
   "metadata": {},
   "source": [
    "# Import data"
   ]
  },
  {
   "cell_type": "code",
   "execution_count": 2,
   "id": "c0d0358e",
   "metadata": {},
   "outputs": [],
   "source": [
    "train=pd.read_csv('train.csv')\n",
    "test=pd.read_csv('test.csv')"
   ]
  },
  {
   "cell_type": "code",
   "execution_count": 3,
   "id": "489ef74b",
   "metadata": {},
   "outputs": [
    {
     "data": {
      "text/html": [
       "<div>\n",
       "<style scoped>\n",
       "    .dataframe tbody tr th:only-of-type {\n",
       "        vertical-align: middle;\n",
       "    }\n",
       "\n",
       "    .dataframe tbody tr th {\n",
       "        vertical-align: top;\n",
       "    }\n",
       "\n",
       "    .dataframe thead th {\n",
       "        text-align: right;\n",
       "    }\n",
       "</style>\n",
       "<table border=\"1\" class=\"dataframe\">\n",
       "  <thead>\n",
       "    <tr style=\"text-align: right;\">\n",
       "      <th></th>\n",
       "      <th>UID</th>\n",
       "      <th>BLOCKID</th>\n",
       "      <th>SUMLEVEL</th>\n",
       "      <th>COUNTYID</th>\n",
       "      <th>STATEID</th>\n",
       "      <th>state</th>\n",
       "      <th>state_ab</th>\n",
       "      <th>city</th>\n",
       "      <th>place</th>\n",
       "      <th>type</th>\n",
       "      <th>...</th>\n",
       "      <th>female_age_mean</th>\n",
       "      <th>female_age_median</th>\n",
       "      <th>female_age_stdev</th>\n",
       "      <th>female_age_sample_weight</th>\n",
       "      <th>female_age_samples</th>\n",
       "      <th>pct_own</th>\n",
       "      <th>married</th>\n",
       "      <th>married_snp</th>\n",
       "      <th>separated</th>\n",
       "      <th>divorced</th>\n",
       "    </tr>\n",
       "  </thead>\n",
       "  <tbody>\n",
       "    <tr>\n",
       "      <th>0</th>\n",
       "      <td>267822</td>\n",
       "      <td>NaN</td>\n",
       "      <td>140</td>\n",
       "      <td>53</td>\n",
       "      <td>36</td>\n",
       "      <td>New York</td>\n",
       "      <td>NY</td>\n",
       "      <td>Hamilton</td>\n",
       "      <td>Hamilton</td>\n",
       "      <td>City</td>\n",
       "      <td>...</td>\n",
       "      <td>44.48629</td>\n",
       "      <td>45.33333</td>\n",
       "      <td>22.51276</td>\n",
       "      <td>685.33845</td>\n",
       "      <td>2618.0</td>\n",
       "      <td>0.79046</td>\n",
       "      <td>0.57851</td>\n",
       "      <td>0.01882</td>\n",
       "      <td>0.01240</td>\n",
       "      <td>0.08770</td>\n",
       "    </tr>\n",
       "    <tr>\n",
       "      <th>1</th>\n",
       "      <td>246444</td>\n",
       "      <td>NaN</td>\n",
       "      <td>140</td>\n",
       "      <td>141</td>\n",
       "      <td>18</td>\n",
       "      <td>Indiana</td>\n",
       "      <td>IN</td>\n",
       "      <td>South Bend</td>\n",
       "      <td>Roseland</td>\n",
       "      <td>City</td>\n",
       "      <td>...</td>\n",
       "      <td>36.48391</td>\n",
       "      <td>37.58333</td>\n",
       "      <td>23.43353</td>\n",
       "      <td>267.23367</td>\n",
       "      <td>1284.0</td>\n",
       "      <td>0.52483</td>\n",
       "      <td>0.34886</td>\n",
       "      <td>0.01426</td>\n",
       "      <td>0.01426</td>\n",
       "      <td>0.09030</td>\n",
       "    </tr>\n",
       "    <tr>\n",
       "      <th>2</th>\n",
       "      <td>245683</td>\n",
       "      <td>NaN</td>\n",
       "      <td>140</td>\n",
       "      <td>63</td>\n",
       "      <td>18</td>\n",
       "      <td>Indiana</td>\n",
       "      <td>IN</td>\n",
       "      <td>Danville</td>\n",
       "      <td>Danville</td>\n",
       "      <td>City</td>\n",
       "      <td>...</td>\n",
       "      <td>42.15810</td>\n",
       "      <td>42.83333</td>\n",
       "      <td>23.94119</td>\n",
       "      <td>707.01963</td>\n",
       "      <td>3238.0</td>\n",
       "      <td>0.85331</td>\n",
       "      <td>0.64745</td>\n",
       "      <td>0.02830</td>\n",
       "      <td>0.01607</td>\n",
       "      <td>0.10657</td>\n",
       "    </tr>\n",
       "    <tr>\n",
       "      <th>3</th>\n",
       "      <td>279653</td>\n",
       "      <td>NaN</td>\n",
       "      <td>140</td>\n",
       "      <td>127</td>\n",
       "      <td>72</td>\n",
       "      <td>Puerto Rico</td>\n",
       "      <td>PR</td>\n",
       "      <td>San Juan</td>\n",
       "      <td>Guaynabo</td>\n",
       "      <td>Urban</td>\n",
       "      <td>...</td>\n",
       "      <td>47.77526</td>\n",
       "      <td>50.58333</td>\n",
       "      <td>24.32015</td>\n",
       "      <td>362.20193</td>\n",
       "      <td>1559.0</td>\n",
       "      <td>0.65037</td>\n",
       "      <td>0.47257</td>\n",
       "      <td>0.02021</td>\n",
       "      <td>0.02021</td>\n",
       "      <td>0.10106</td>\n",
       "    </tr>\n",
       "    <tr>\n",
       "      <th>4</th>\n",
       "      <td>247218</td>\n",
       "      <td>NaN</td>\n",
       "      <td>140</td>\n",
       "      <td>161</td>\n",
       "      <td>20</td>\n",
       "      <td>Kansas</td>\n",
       "      <td>KS</td>\n",
       "      <td>Manhattan</td>\n",
       "      <td>Manhattan City</td>\n",
       "      <td>City</td>\n",
       "      <td>...</td>\n",
       "      <td>24.17693</td>\n",
       "      <td>21.58333</td>\n",
       "      <td>11.10484</td>\n",
       "      <td>1854.48652</td>\n",
       "      <td>3051.0</td>\n",
       "      <td>0.13046</td>\n",
       "      <td>0.12356</td>\n",
       "      <td>0.00000</td>\n",
       "      <td>0.00000</td>\n",
       "      <td>0.03109</td>\n",
       "    </tr>\n",
       "  </tbody>\n",
       "</table>\n",
       "<p>5 rows × 80 columns</p>\n",
       "</div>"
      ],
      "text/plain": [
       "      UID  BLOCKID  SUMLEVEL  COUNTYID  STATEID        state state_ab  \\\n",
       "0  267822      NaN       140        53       36     New York       NY   \n",
       "1  246444      NaN       140       141       18      Indiana       IN   \n",
       "2  245683      NaN       140        63       18      Indiana       IN   \n",
       "3  279653      NaN       140       127       72  Puerto Rico       PR   \n",
       "4  247218      NaN       140       161       20       Kansas       KS   \n",
       "\n",
       "         city           place   type  ... female_age_mean  female_age_median  \\\n",
       "0    Hamilton        Hamilton   City  ...        44.48629           45.33333   \n",
       "1  South Bend        Roseland   City  ...        36.48391           37.58333   \n",
       "2    Danville        Danville   City  ...        42.15810           42.83333   \n",
       "3    San Juan        Guaynabo  Urban  ...        47.77526           50.58333   \n",
       "4   Manhattan  Manhattan City   City  ...        24.17693           21.58333   \n",
       "\n",
       "   female_age_stdev  female_age_sample_weight  female_age_samples  pct_own  \\\n",
       "0          22.51276                 685.33845              2618.0  0.79046   \n",
       "1          23.43353                 267.23367              1284.0  0.52483   \n",
       "2          23.94119                 707.01963              3238.0  0.85331   \n",
       "3          24.32015                 362.20193              1559.0  0.65037   \n",
       "4          11.10484                1854.48652              3051.0  0.13046   \n",
       "\n",
       "   married  married_snp  separated  divorced  \n",
       "0  0.57851      0.01882    0.01240   0.08770  \n",
       "1  0.34886      0.01426    0.01426   0.09030  \n",
       "2  0.64745      0.02830    0.01607   0.10657  \n",
       "3  0.47257      0.02021    0.02021   0.10106  \n",
       "4  0.12356      0.00000    0.00000   0.03109  \n",
       "\n",
       "[5 rows x 80 columns]"
      ]
     },
     "execution_count": 3,
     "metadata": {},
     "output_type": "execute_result"
    }
   ],
   "source": [
    "train.head()"
   ]
  },
  {
   "cell_type": "code",
   "execution_count": 4,
   "id": "377c9a16",
   "metadata": {},
   "outputs": [
    {
     "data": {
      "text/plain": [
       "(27321, 80)"
      ]
     },
     "execution_count": 4,
     "metadata": {},
     "output_type": "execute_result"
    }
   ],
   "source": [
    "train.shape"
   ]
  },
  {
   "cell_type": "code",
   "execution_count": 5,
   "id": "0344a3e0",
   "metadata": {},
   "outputs": [
    {
     "data": {
      "text/html": [
       "<div>\n",
       "<style scoped>\n",
       "    .dataframe tbody tr th:only-of-type {\n",
       "        vertical-align: middle;\n",
       "    }\n",
       "\n",
       "    .dataframe tbody tr th {\n",
       "        vertical-align: top;\n",
       "    }\n",
       "\n",
       "    .dataframe thead th {\n",
       "        text-align: right;\n",
       "    }\n",
       "</style>\n",
       "<table border=\"1\" class=\"dataframe\">\n",
       "  <thead>\n",
       "    <tr style=\"text-align: right;\">\n",
       "      <th></th>\n",
       "      <th>UID</th>\n",
       "      <th>BLOCKID</th>\n",
       "      <th>SUMLEVEL</th>\n",
       "      <th>COUNTYID</th>\n",
       "      <th>STATEID</th>\n",
       "      <th>state</th>\n",
       "      <th>state_ab</th>\n",
       "      <th>city</th>\n",
       "      <th>place</th>\n",
       "      <th>type</th>\n",
       "      <th>...</th>\n",
       "      <th>female_age_mean</th>\n",
       "      <th>female_age_median</th>\n",
       "      <th>female_age_stdev</th>\n",
       "      <th>female_age_sample_weight</th>\n",
       "      <th>female_age_samples</th>\n",
       "      <th>pct_own</th>\n",
       "      <th>married</th>\n",
       "      <th>married_snp</th>\n",
       "      <th>separated</th>\n",
       "      <th>divorced</th>\n",
       "    </tr>\n",
       "  </thead>\n",
       "  <tbody>\n",
       "    <tr>\n",
       "      <th>0</th>\n",
       "      <td>255504</td>\n",
       "      <td>NaN</td>\n",
       "      <td>140</td>\n",
       "      <td>163</td>\n",
       "      <td>26</td>\n",
       "      <td>Michigan</td>\n",
       "      <td>MI</td>\n",
       "      <td>Detroit</td>\n",
       "      <td>Dearborn Heights City</td>\n",
       "      <td>CDP</td>\n",
       "      <td>...</td>\n",
       "      <td>34.78682</td>\n",
       "      <td>33.75000</td>\n",
       "      <td>21.58531</td>\n",
       "      <td>416.48097</td>\n",
       "      <td>1938.0</td>\n",
       "      <td>0.70252</td>\n",
       "      <td>0.28217</td>\n",
       "      <td>0.05910</td>\n",
       "      <td>0.03813</td>\n",
       "      <td>0.14299</td>\n",
       "    </tr>\n",
       "    <tr>\n",
       "      <th>1</th>\n",
       "      <td>252676</td>\n",
       "      <td>NaN</td>\n",
       "      <td>140</td>\n",
       "      <td>1</td>\n",
       "      <td>23</td>\n",
       "      <td>Maine</td>\n",
       "      <td>ME</td>\n",
       "      <td>Auburn</td>\n",
       "      <td>Auburn City</td>\n",
       "      <td>City</td>\n",
       "      <td>...</td>\n",
       "      <td>44.23451</td>\n",
       "      <td>46.66667</td>\n",
       "      <td>22.37036</td>\n",
       "      <td>532.03505</td>\n",
       "      <td>1950.0</td>\n",
       "      <td>0.85128</td>\n",
       "      <td>0.64221</td>\n",
       "      <td>0.02338</td>\n",
       "      <td>0.00000</td>\n",
       "      <td>0.13377</td>\n",
       "    </tr>\n",
       "    <tr>\n",
       "      <th>2</th>\n",
       "      <td>276314</td>\n",
       "      <td>NaN</td>\n",
       "      <td>140</td>\n",
       "      <td>15</td>\n",
       "      <td>42</td>\n",
       "      <td>Pennsylvania</td>\n",
       "      <td>PA</td>\n",
       "      <td>Pine City</td>\n",
       "      <td>Millerton</td>\n",
       "      <td>Borough</td>\n",
       "      <td>...</td>\n",
       "      <td>41.62426</td>\n",
       "      <td>44.50000</td>\n",
       "      <td>22.86213</td>\n",
       "      <td>453.11959</td>\n",
       "      <td>1879.0</td>\n",
       "      <td>0.81897</td>\n",
       "      <td>0.59961</td>\n",
       "      <td>0.01746</td>\n",
       "      <td>0.01358</td>\n",
       "      <td>0.10026</td>\n",
       "    </tr>\n",
       "    <tr>\n",
       "      <th>3</th>\n",
       "      <td>248614</td>\n",
       "      <td>NaN</td>\n",
       "      <td>140</td>\n",
       "      <td>231</td>\n",
       "      <td>21</td>\n",
       "      <td>Kentucky</td>\n",
       "      <td>KY</td>\n",
       "      <td>Monticello</td>\n",
       "      <td>Monticello City</td>\n",
       "      <td>City</td>\n",
       "      <td>...</td>\n",
       "      <td>44.81200</td>\n",
       "      <td>48.00000</td>\n",
       "      <td>21.03155</td>\n",
       "      <td>263.94320</td>\n",
       "      <td>1081.0</td>\n",
       "      <td>0.84609</td>\n",
       "      <td>0.56953</td>\n",
       "      <td>0.05492</td>\n",
       "      <td>0.04694</td>\n",
       "      <td>0.12489</td>\n",
       "    </tr>\n",
       "    <tr>\n",
       "      <th>4</th>\n",
       "      <td>286865</td>\n",
       "      <td>NaN</td>\n",
       "      <td>140</td>\n",
       "      <td>355</td>\n",
       "      <td>48</td>\n",
       "      <td>Texas</td>\n",
       "      <td>TX</td>\n",
       "      <td>Corpus Christi</td>\n",
       "      <td>Edroy</td>\n",
       "      <td>Town</td>\n",
       "      <td>...</td>\n",
       "      <td>40.66618</td>\n",
       "      <td>42.66667</td>\n",
       "      <td>21.30900</td>\n",
       "      <td>709.90829</td>\n",
       "      <td>2956.0</td>\n",
       "      <td>0.79077</td>\n",
       "      <td>0.57620</td>\n",
       "      <td>0.01726</td>\n",
       "      <td>0.00588</td>\n",
       "      <td>0.16379</td>\n",
       "    </tr>\n",
       "  </tbody>\n",
       "</table>\n",
       "<p>5 rows × 80 columns</p>\n",
       "</div>"
      ],
      "text/plain": [
       "      UID  BLOCKID  SUMLEVEL  COUNTYID  STATEID         state state_ab  \\\n",
       "0  255504      NaN       140       163       26      Michigan       MI   \n",
       "1  252676      NaN       140         1       23         Maine       ME   \n",
       "2  276314      NaN       140        15       42  Pennsylvania       PA   \n",
       "3  248614      NaN       140       231       21      Kentucky       KY   \n",
       "4  286865      NaN       140       355       48         Texas       TX   \n",
       "\n",
       "             city                  place     type  ... female_age_mean  \\\n",
       "0         Detroit  Dearborn Heights City      CDP  ...        34.78682   \n",
       "1          Auburn            Auburn City     City  ...        44.23451   \n",
       "2       Pine City              Millerton  Borough  ...        41.62426   \n",
       "3      Monticello        Monticello City     City  ...        44.81200   \n",
       "4  Corpus Christi                  Edroy     Town  ...        40.66618   \n",
       "\n",
       "   female_age_median  female_age_stdev  female_age_sample_weight  \\\n",
       "0           33.75000          21.58531                 416.48097   \n",
       "1           46.66667          22.37036                 532.03505   \n",
       "2           44.50000          22.86213                 453.11959   \n",
       "3           48.00000          21.03155                 263.94320   \n",
       "4           42.66667          21.30900                 709.90829   \n",
       "\n",
       "   female_age_samples  pct_own  married  married_snp  separated  divorced  \n",
       "0              1938.0  0.70252  0.28217      0.05910    0.03813   0.14299  \n",
       "1              1950.0  0.85128  0.64221      0.02338    0.00000   0.13377  \n",
       "2              1879.0  0.81897  0.59961      0.01746    0.01358   0.10026  \n",
       "3              1081.0  0.84609  0.56953      0.05492    0.04694   0.12489  \n",
       "4              2956.0  0.79077  0.57620      0.01726    0.00588   0.16379  \n",
       "\n",
       "[5 rows x 80 columns]"
      ]
     },
     "execution_count": 5,
     "metadata": {},
     "output_type": "execute_result"
    }
   ],
   "source": [
    "test.head()"
   ]
  },
  {
   "cell_type": "code",
   "execution_count": 6,
   "id": "76249b42",
   "metadata": {},
   "outputs": [
    {
     "data": {
      "text/plain": [
       "(11709, 80)"
      ]
     },
     "execution_count": 6,
     "metadata": {},
     "output_type": "execute_result"
    }
   ],
   "source": [
    "test.shape"
   ]
  },
  {
   "cell_type": "markdown",
   "id": "54196060",
   "metadata": {},
   "source": [
    "# Figure out the primary key and look for the requirement of indexing"
   ]
  },
  {
   "cell_type": "markdown",
   "id": "2f249bb3",
   "metadata": {},
   "source": [
    "Here primary key is UID"
   ]
  },
  {
   "cell_type": "code",
   "execution_count": 7,
   "id": "d447811f",
   "metadata": {},
   "outputs": [
    {
     "data": {
      "text/html": [
       "<div>\n",
       "<style scoped>\n",
       "    .dataframe tbody tr th:only-of-type {\n",
       "        vertical-align: middle;\n",
       "    }\n",
       "\n",
       "    .dataframe tbody tr th {\n",
       "        vertical-align: top;\n",
       "    }\n",
       "\n",
       "    .dataframe thead th {\n",
       "        text-align: right;\n",
       "    }\n",
       "</style>\n",
       "<table border=\"1\" class=\"dataframe\">\n",
       "  <thead>\n",
       "    <tr style=\"text-align: right;\">\n",
       "      <th></th>\n",
       "      <th>BLOCKID</th>\n",
       "      <th>SUMLEVEL</th>\n",
       "      <th>COUNTYID</th>\n",
       "      <th>STATEID</th>\n",
       "      <th>state</th>\n",
       "      <th>state_ab</th>\n",
       "      <th>city</th>\n",
       "      <th>place</th>\n",
       "      <th>type</th>\n",
       "      <th>primary</th>\n",
       "      <th>...</th>\n",
       "      <th>female_age_mean</th>\n",
       "      <th>female_age_median</th>\n",
       "      <th>female_age_stdev</th>\n",
       "      <th>female_age_sample_weight</th>\n",
       "      <th>female_age_samples</th>\n",
       "      <th>pct_own</th>\n",
       "      <th>married</th>\n",
       "      <th>married_snp</th>\n",
       "      <th>separated</th>\n",
       "      <th>divorced</th>\n",
       "    </tr>\n",
       "    <tr>\n",
       "      <th>UID</th>\n",
       "      <th></th>\n",
       "      <th></th>\n",
       "      <th></th>\n",
       "      <th></th>\n",
       "      <th></th>\n",
       "      <th></th>\n",
       "      <th></th>\n",
       "      <th></th>\n",
       "      <th></th>\n",
       "      <th></th>\n",
       "      <th></th>\n",
       "      <th></th>\n",
       "      <th></th>\n",
       "      <th></th>\n",
       "      <th></th>\n",
       "      <th></th>\n",
       "      <th></th>\n",
       "      <th></th>\n",
       "      <th></th>\n",
       "      <th></th>\n",
       "      <th></th>\n",
       "    </tr>\n",
       "  </thead>\n",
       "  <tbody>\n",
       "    <tr>\n",
       "      <th>267822</th>\n",
       "      <td>NaN</td>\n",
       "      <td>140</td>\n",
       "      <td>53</td>\n",
       "      <td>36</td>\n",
       "      <td>New York</td>\n",
       "      <td>NY</td>\n",
       "      <td>Hamilton</td>\n",
       "      <td>Hamilton</td>\n",
       "      <td>City</td>\n",
       "      <td>tract</td>\n",
       "      <td>...</td>\n",
       "      <td>44.48629</td>\n",
       "      <td>45.33333</td>\n",
       "      <td>22.51276</td>\n",
       "      <td>685.33845</td>\n",
       "      <td>2618.0</td>\n",
       "      <td>0.79046</td>\n",
       "      <td>0.57851</td>\n",
       "      <td>0.01882</td>\n",
       "      <td>0.01240</td>\n",
       "      <td>0.08770</td>\n",
       "    </tr>\n",
       "    <tr>\n",
       "      <th>246444</th>\n",
       "      <td>NaN</td>\n",
       "      <td>140</td>\n",
       "      <td>141</td>\n",
       "      <td>18</td>\n",
       "      <td>Indiana</td>\n",
       "      <td>IN</td>\n",
       "      <td>South Bend</td>\n",
       "      <td>Roseland</td>\n",
       "      <td>City</td>\n",
       "      <td>tract</td>\n",
       "      <td>...</td>\n",
       "      <td>36.48391</td>\n",
       "      <td>37.58333</td>\n",
       "      <td>23.43353</td>\n",
       "      <td>267.23367</td>\n",
       "      <td>1284.0</td>\n",
       "      <td>0.52483</td>\n",
       "      <td>0.34886</td>\n",
       "      <td>0.01426</td>\n",
       "      <td>0.01426</td>\n",
       "      <td>0.09030</td>\n",
       "    </tr>\n",
       "    <tr>\n",
       "      <th>245683</th>\n",
       "      <td>NaN</td>\n",
       "      <td>140</td>\n",
       "      <td>63</td>\n",
       "      <td>18</td>\n",
       "      <td>Indiana</td>\n",
       "      <td>IN</td>\n",
       "      <td>Danville</td>\n",
       "      <td>Danville</td>\n",
       "      <td>City</td>\n",
       "      <td>tract</td>\n",
       "      <td>...</td>\n",
       "      <td>42.15810</td>\n",
       "      <td>42.83333</td>\n",
       "      <td>23.94119</td>\n",
       "      <td>707.01963</td>\n",
       "      <td>3238.0</td>\n",
       "      <td>0.85331</td>\n",
       "      <td>0.64745</td>\n",
       "      <td>0.02830</td>\n",
       "      <td>0.01607</td>\n",
       "      <td>0.10657</td>\n",
       "    </tr>\n",
       "    <tr>\n",
       "      <th>279653</th>\n",
       "      <td>NaN</td>\n",
       "      <td>140</td>\n",
       "      <td>127</td>\n",
       "      <td>72</td>\n",
       "      <td>Puerto Rico</td>\n",
       "      <td>PR</td>\n",
       "      <td>San Juan</td>\n",
       "      <td>Guaynabo</td>\n",
       "      <td>Urban</td>\n",
       "      <td>tract</td>\n",
       "      <td>...</td>\n",
       "      <td>47.77526</td>\n",
       "      <td>50.58333</td>\n",
       "      <td>24.32015</td>\n",
       "      <td>362.20193</td>\n",
       "      <td>1559.0</td>\n",
       "      <td>0.65037</td>\n",
       "      <td>0.47257</td>\n",
       "      <td>0.02021</td>\n",
       "      <td>0.02021</td>\n",
       "      <td>0.10106</td>\n",
       "    </tr>\n",
       "    <tr>\n",
       "      <th>247218</th>\n",
       "      <td>NaN</td>\n",
       "      <td>140</td>\n",
       "      <td>161</td>\n",
       "      <td>20</td>\n",
       "      <td>Kansas</td>\n",
       "      <td>KS</td>\n",
       "      <td>Manhattan</td>\n",
       "      <td>Manhattan City</td>\n",
       "      <td>City</td>\n",
       "      <td>tract</td>\n",
       "      <td>...</td>\n",
       "      <td>24.17693</td>\n",
       "      <td>21.58333</td>\n",
       "      <td>11.10484</td>\n",
       "      <td>1854.48652</td>\n",
       "      <td>3051.0</td>\n",
       "      <td>0.13046</td>\n",
       "      <td>0.12356</td>\n",
       "      <td>0.00000</td>\n",
       "      <td>0.00000</td>\n",
       "      <td>0.03109</td>\n",
       "    </tr>\n",
       "    <tr>\n",
       "      <th>...</th>\n",
       "      <td>...</td>\n",
       "      <td>...</td>\n",
       "      <td>...</td>\n",
       "      <td>...</td>\n",
       "      <td>...</td>\n",
       "      <td>...</td>\n",
       "      <td>...</td>\n",
       "      <td>...</td>\n",
       "      <td>...</td>\n",
       "      <td>...</td>\n",
       "      <td>...</td>\n",
       "      <td>...</td>\n",
       "      <td>...</td>\n",
       "      <td>...</td>\n",
       "      <td>...</td>\n",
       "      <td>...</td>\n",
       "      <td>...</td>\n",
       "      <td>...</td>\n",
       "      <td>...</td>\n",
       "      <td>...</td>\n",
       "      <td>...</td>\n",
       "    </tr>\n",
       "    <tr>\n",
       "      <th>279212</th>\n",
       "      <td>NaN</td>\n",
       "      <td>140</td>\n",
       "      <td>43</td>\n",
       "      <td>72</td>\n",
       "      <td>Puerto Rico</td>\n",
       "      <td>PR</td>\n",
       "      <td>Coamo</td>\n",
       "      <td>Coamo</td>\n",
       "      <td>Urban</td>\n",
       "      <td>tract</td>\n",
       "      <td>...</td>\n",
       "      <td>42.73154</td>\n",
       "      <td>40.16667</td>\n",
       "      <td>24.79821</td>\n",
       "      <td>230.87898</td>\n",
       "      <td>938.0</td>\n",
       "      <td>0.60422</td>\n",
       "      <td>0.24603</td>\n",
       "      <td>0.03042</td>\n",
       "      <td>0.02249</td>\n",
       "      <td>0.14683</td>\n",
       "    </tr>\n",
       "    <tr>\n",
       "      <th>277856</th>\n",
       "      <td>NaN</td>\n",
       "      <td>140</td>\n",
       "      <td>91</td>\n",
       "      <td>42</td>\n",
       "      <td>Pennsylvania</td>\n",
       "      <td>PA</td>\n",
       "      <td>Blue Bell</td>\n",
       "      <td>Blue Bell</td>\n",
       "      <td>Borough</td>\n",
       "      <td>tract</td>\n",
       "      <td>...</td>\n",
       "      <td>38.21269</td>\n",
       "      <td>39.50000</td>\n",
       "      <td>21.84826</td>\n",
       "      <td>496.20427</td>\n",
       "      <td>2039.0</td>\n",
       "      <td>0.68072</td>\n",
       "      <td>0.61127</td>\n",
       "      <td>0.05003</td>\n",
       "      <td>0.02473</td>\n",
       "      <td>0.04888</td>\n",
       "    </tr>\n",
       "    <tr>\n",
       "      <th>233000</th>\n",
       "      <td>NaN</td>\n",
       "      <td>140</td>\n",
       "      <td>87</td>\n",
       "      <td>8</td>\n",
       "      <td>Colorado</td>\n",
       "      <td>CO</td>\n",
       "      <td>Weldona</td>\n",
       "      <td>Saddle Ridge</td>\n",
       "      <td>City</td>\n",
       "      <td>tract</td>\n",
       "      <td>...</td>\n",
       "      <td>43.40218</td>\n",
       "      <td>46.33333</td>\n",
       "      <td>23.40858</td>\n",
       "      <td>316.52078</td>\n",
       "      <td>1364.0</td>\n",
       "      <td>0.78508</td>\n",
       "      <td>0.70451</td>\n",
       "      <td>0.01386</td>\n",
       "      <td>0.00520</td>\n",
       "      <td>0.07712</td>\n",
       "    </tr>\n",
       "    <tr>\n",
       "      <th>287425</th>\n",
       "      <td>NaN</td>\n",
       "      <td>140</td>\n",
       "      <td>439</td>\n",
       "      <td>48</td>\n",
       "      <td>Texas</td>\n",
       "      <td>TX</td>\n",
       "      <td>Colleyville</td>\n",
       "      <td>Colleyville City</td>\n",
       "      <td>Town</td>\n",
       "      <td>tract</td>\n",
       "      <td>...</td>\n",
       "      <td>39.25921</td>\n",
       "      <td>43.41667</td>\n",
       "      <td>21.36235</td>\n",
       "      <td>1373.94120</td>\n",
       "      <td>5815.0</td>\n",
       "      <td>0.93970</td>\n",
       "      <td>0.75503</td>\n",
       "      <td>0.02287</td>\n",
       "      <td>0.00915</td>\n",
       "      <td>0.05261</td>\n",
       "    </tr>\n",
       "    <tr>\n",
       "      <th>265371</th>\n",
       "      <td>NaN</td>\n",
       "      <td>140</td>\n",
       "      <td>3</td>\n",
       "      <td>32</td>\n",
       "      <td>Nevada</td>\n",
       "      <td>NV</td>\n",
       "      <td>Las Vegas</td>\n",
       "      <td>Paradise</td>\n",
       "      <td>City</td>\n",
       "      <td>tract</td>\n",
       "      <td>...</td>\n",
       "      <td>34.45345</td>\n",
       "      <td>29.83333</td>\n",
       "      <td>19.77208</td>\n",
       "      <td>526.73261</td>\n",
       "      <td>1911.0</td>\n",
       "      <td>0.27912</td>\n",
       "      <td>0.34426</td>\n",
       "      <td>0.03825</td>\n",
       "      <td>0.03005</td>\n",
       "      <td>0.13320</td>\n",
       "    </tr>\n",
       "  </tbody>\n",
       "</table>\n",
       "<p>27321 rows × 79 columns</p>\n",
       "</div>"
      ],
      "text/plain": [
       "        BLOCKID  SUMLEVEL  COUNTYID  STATEID         state state_ab  \\\n",
       "UID                                                                   \n",
       "267822      NaN       140        53       36      New York       NY   \n",
       "246444      NaN       140       141       18       Indiana       IN   \n",
       "245683      NaN       140        63       18       Indiana       IN   \n",
       "279653      NaN       140       127       72   Puerto Rico       PR   \n",
       "247218      NaN       140       161       20        Kansas       KS   \n",
       "...         ...       ...       ...      ...           ...      ...   \n",
       "279212      NaN       140        43       72   Puerto Rico       PR   \n",
       "277856      NaN       140        91       42  Pennsylvania       PA   \n",
       "233000      NaN       140        87        8      Colorado       CO   \n",
       "287425      NaN       140       439       48         Texas       TX   \n",
       "265371      NaN       140         3       32        Nevada       NV   \n",
       "\n",
       "               city             place     type primary  ...  female_age_mean  \\\n",
       "UID                                                     ...                    \n",
       "267822     Hamilton          Hamilton     City   tract  ...         44.48629   \n",
       "246444   South Bend          Roseland     City   tract  ...         36.48391   \n",
       "245683     Danville          Danville     City   tract  ...         42.15810   \n",
       "279653     San Juan          Guaynabo    Urban   tract  ...         47.77526   \n",
       "247218    Manhattan    Manhattan City     City   tract  ...         24.17693   \n",
       "...             ...               ...      ...     ...  ...              ...   \n",
       "279212        Coamo             Coamo    Urban   tract  ...         42.73154   \n",
       "277856    Blue Bell         Blue Bell  Borough   tract  ...         38.21269   \n",
       "233000      Weldona      Saddle Ridge     City   tract  ...         43.40218   \n",
       "287425  Colleyville  Colleyville City     Town   tract  ...         39.25921   \n",
       "265371    Las Vegas          Paradise     City   tract  ...         34.45345   \n",
       "\n",
       "        female_age_median  female_age_stdev  female_age_sample_weight  \\\n",
       "UID                                                                     \n",
       "267822           45.33333          22.51276                 685.33845   \n",
       "246444           37.58333          23.43353                 267.23367   \n",
       "245683           42.83333          23.94119                 707.01963   \n",
       "279653           50.58333          24.32015                 362.20193   \n",
       "247218           21.58333          11.10484                1854.48652   \n",
       "...                   ...               ...                       ...   \n",
       "279212           40.16667          24.79821                 230.87898   \n",
       "277856           39.50000          21.84826                 496.20427   \n",
       "233000           46.33333          23.40858                 316.52078   \n",
       "287425           43.41667          21.36235                1373.94120   \n",
       "265371           29.83333          19.77208                 526.73261   \n",
       "\n",
       "        female_age_samples  pct_own  married  married_snp  separated  divorced  \n",
       "UID                                                                             \n",
       "267822              2618.0  0.79046  0.57851      0.01882    0.01240   0.08770  \n",
       "246444              1284.0  0.52483  0.34886      0.01426    0.01426   0.09030  \n",
       "245683              3238.0  0.85331  0.64745      0.02830    0.01607   0.10657  \n",
       "279653              1559.0  0.65037  0.47257      0.02021    0.02021   0.10106  \n",
       "247218              3051.0  0.13046  0.12356      0.00000    0.00000   0.03109  \n",
       "...                    ...      ...      ...          ...        ...       ...  \n",
       "279212               938.0  0.60422  0.24603      0.03042    0.02249   0.14683  \n",
       "277856              2039.0  0.68072  0.61127      0.05003    0.02473   0.04888  \n",
       "233000              1364.0  0.78508  0.70451      0.01386    0.00520   0.07712  \n",
       "287425              5815.0  0.93970  0.75503      0.02287    0.00915   0.05261  \n",
       "265371              1911.0  0.27912  0.34426      0.03825    0.03005   0.13320  \n",
       "\n",
       "[27321 rows x 79 columns]"
      ]
     },
     "execution_count": 7,
     "metadata": {},
     "output_type": "execute_result"
    }
   ],
   "source": [
    "train.set_index(\"UID\")\n"
   ]
  },
  {
   "cell_type": "code",
   "execution_count": 8,
   "id": "a0d0db32",
   "metadata": {},
   "outputs": [
    {
     "data": {
      "text/html": [
       "<div>\n",
       "<style scoped>\n",
       "    .dataframe tbody tr th:only-of-type {\n",
       "        vertical-align: middle;\n",
       "    }\n",
       "\n",
       "    .dataframe tbody tr th {\n",
       "        vertical-align: top;\n",
       "    }\n",
       "\n",
       "    .dataframe thead th {\n",
       "        text-align: right;\n",
       "    }\n",
       "</style>\n",
       "<table border=\"1\" class=\"dataframe\">\n",
       "  <thead>\n",
       "    <tr style=\"text-align: right;\">\n",
       "      <th></th>\n",
       "      <th>BLOCKID</th>\n",
       "      <th>SUMLEVEL</th>\n",
       "      <th>COUNTYID</th>\n",
       "      <th>STATEID</th>\n",
       "      <th>state</th>\n",
       "      <th>state_ab</th>\n",
       "      <th>city</th>\n",
       "      <th>place</th>\n",
       "      <th>type</th>\n",
       "      <th>primary</th>\n",
       "      <th>...</th>\n",
       "      <th>female_age_mean</th>\n",
       "      <th>female_age_median</th>\n",
       "      <th>female_age_stdev</th>\n",
       "      <th>female_age_sample_weight</th>\n",
       "      <th>female_age_samples</th>\n",
       "      <th>pct_own</th>\n",
       "      <th>married</th>\n",
       "      <th>married_snp</th>\n",
       "      <th>separated</th>\n",
       "      <th>divorced</th>\n",
       "    </tr>\n",
       "    <tr>\n",
       "      <th>UID</th>\n",
       "      <th></th>\n",
       "      <th></th>\n",
       "      <th></th>\n",
       "      <th></th>\n",
       "      <th></th>\n",
       "      <th></th>\n",
       "      <th></th>\n",
       "      <th></th>\n",
       "      <th></th>\n",
       "      <th></th>\n",
       "      <th></th>\n",
       "      <th></th>\n",
       "      <th></th>\n",
       "      <th></th>\n",
       "      <th></th>\n",
       "      <th></th>\n",
       "      <th></th>\n",
       "      <th></th>\n",
       "      <th></th>\n",
       "      <th></th>\n",
       "      <th></th>\n",
       "    </tr>\n",
       "  </thead>\n",
       "  <tbody>\n",
       "    <tr>\n",
       "      <th>255504</th>\n",
       "      <td>NaN</td>\n",
       "      <td>140</td>\n",
       "      <td>163</td>\n",
       "      <td>26</td>\n",
       "      <td>Michigan</td>\n",
       "      <td>MI</td>\n",
       "      <td>Detroit</td>\n",
       "      <td>Dearborn Heights City</td>\n",
       "      <td>CDP</td>\n",
       "      <td>tract</td>\n",
       "      <td>...</td>\n",
       "      <td>34.78682</td>\n",
       "      <td>33.75000</td>\n",
       "      <td>21.58531</td>\n",
       "      <td>416.48097</td>\n",
       "      <td>1938.0</td>\n",
       "      <td>0.70252</td>\n",
       "      <td>0.28217</td>\n",
       "      <td>0.05910</td>\n",
       "      <td>0.03813</td>\n",
       "      <td>0.14299</td>\n",
       "    </tr>\n",
       "    <tr>\n",
       "      <th>252676</th>\n",
       "      <td>NaN</td>\n",
       "      <td>140</td>\n",
       "      <td>1</td>\n",
       "      <td>23</td>\n",
       "      <td>Maine</td>\n",
       "      <td>ME</td>\n",
       "      <td>Auburn</td>\n",
       "      <td>Auburn City</td>\n",
       "      <td>City</td>\n",
       "      <td>tract</td>\n",
       "      <td>...</td>\n",
       "      <td>44.23451</td>\n",
       "      <td>46.66667</td>\n",
       "      <td>22.37036</td>\n",
       "      <td>532.03505</td>\n",
       "      <td>1950.0</td>\n",
       "      <td>0.85128</td>\n",
       "      <td>0.64221</td>\n",
       "      <td>0.02338</td>\n",
       "      <td>0.00000</td>\n",
       "      <td>0.13377</td>\n",
       "    </tr>\n",
       "    <tr>\n",
       "      <th>276314</th>\n",
       "      <td>NaN</td>\n",
       "      <td>140</td>\n",
       "      <td>15</td>\n",
       "      <td>42</td>\n",
       "      <td>Pennsylvania</td>\n",
       "      <td>PA</td>\n",
       "      <td>Pine City</td>\n",
       "      <td>Millerton</td>\n",
       "      <td>Borough</td>\n",
       "      <td>tract</td>\n",
       "      <td>...</td>\n",
       "      <td>41.62426</td>\n",
       "      <td>44.50000</td>\n",
       "      <td>22.86213</td>\n",
       "      <td>453.11959</td>\n",
       "      <td>1879.0</td>\n",
       "      <td>0.81897</td>\n",
       "      <td>0.59961</td>\n",
       "      <td>0.01746</td>\n",
       "      <td>0.01358</td>\n",
       "      <td>0.10026</td>\n",
       "    </tr>\n",
       "    <tr>\n",
       "      <th>248614</th>\n",
       "      <td>NaN</td>\n",
       "      <td>140</td>\n",
       "      <td>231</td>\n",
       "      <td>21</td>\n",
       "      <td>Kentucky</td>\n",
       "      <td>KY</td>\n",
       "      <td>Monticello</td>\n",
       "      <td>Monticello City</td>\n",
       "      <td>City</td>\n",
       "      <td>tract</td>\n",
       "      <td>...</td>\n",
       "      <td>44.81200</td>\n",
       "      <td>48.00000</td>\n",
       "      <td>21.03155</td>\n",
       "      <td>263.94320</td>\n",
       "      <td>1081.0</td>\n",
       "      <td>0.84609</td>\n",
       "      <td>0.56953</td>\n",
       "      <td>0.05492</td>\n",
       "      <td>0.04694</td>\n",
       "      <td>0.12489</td>\n",
       "    </tr>\n",
       "    <tr>\n",
       "      <th>286865</th>\n",
       "      <td>NaN</td>\n",
       "      <td>140</td>\n",
       "      <td>355</td>\n",
       "      <td>48</td>\n",
       "      <td>Texas</td>\n",
       "      <td>TX</td>\n",
       "      <td>Corpus Christi</td>\n",
       "      <td>Edroy</td>\n",
       "      <td>Town</td>\n",
       "      <td>tract</td>\n",
       "      <td>...</td>\n",
       "      <td>40.66618</td>\n",
       "      <td>42.66667</td>\n",
       "      <td>21.30900</td>\n",
       "      <td>709.90829</td>\n",
       "      <td>2956.0</td>\n",
       "      <td>0.79077</td>\n",
       "      <td>0.57620</td>\n",
       "      <td>0.01726</td>\n",
       "      <td>0.00588</td>\n",
       "      <td>0.16379</td>\n",
       "    </tr>\n",
       "    <tr>\n",
       "      <th>...</th>\n",
       "      <td>...</td>\n",
       "      <td>...</td>\n",
       "      <td>...</td>\n",
       "      <td>...</td>\n",
       "      <td>...</td>\n",
       "      <td>...</td>\n",
       "      <td>...</td>\n",
       "      <td>...</td>\n",
       "      <td>...</td>\n",
       "      <td>...</td>\n",
       "      <td>...</td>\n",
       "      <td>...</td>\n",
       "      <td>...</td>\n",
       "      <td>...</td>\n",
       "      <td>...</td>\n",
       "      <td>...</td>\n",
       "      <td>...</td>\n",
       "      <td>...</td>\n",
       "      <td>...</td>\n",
       "      <td>...</td>\n",
       "      <td>...</td>\n",
       "    </tr>\n",
       "    <tr>\n",
       "      <th>238088</th>\n",
       "      <td>NaN</td>\n",
       "      <td>140</td>\n",
       "      <td>105</td>\n",
       "      <td>12</td>\n",
       "      <td>Florida</td>\n",
       "      <td>FL</td>\n",
       "      <td>Lakeland</td>\n",
       "      <td>Crystal Springs</td>\n",
       "      <td>City</td>\n",
       "      <td>tract</td>\n",
       "      <td>...</td>\n",
       "      <td>53.51255</td>\n",
       "      <td>59.58333</td>\n",
       "      <td>23.23426</td>\n",
       "      <td>699.33353</td>\n",
       "      <td>2914.0</td>\n",
       "      <td>0.93121</td>\n",
       "      <td>0.65969</td>\n",
       "      <td>0.02135</td>\n",
       "      <td>0.02135</td>\n",
       "      <td>0.08780</td>\n",
       "    </tr>\n",
       "    <tr>\n",
       "      <th>242811</th>\n",
       "      <td>NaN</td>\n",
       "      <td>140</td>\n",
       "      <td>31</td>\n",
       "      <td>17</td>\n",
       "      <td>Illinois</td>\n",
       "      <td>IL</td>\n",
       "      <td>Chicago</td>\n",
       "      <td>Chicago City</td>\n",
       "      <td>Village</td>\n",
       "      <td>tract</td>\n",
       "      <td>...</td>\n",
       "      <td>33.14169</td>\n",
       "      <td>32.83333</td>\n",
       "      <td>20.24698</td>\n",
       "      <td>306.63915</td>\n",
       "      <td>1191.0</td>\n",
       "      <td>0.33122</td>\n",
       "      <td>0.42882</td>\n",
       "      <td>0.07781</td>\n",
       "      <td>0.02829</td>\n",
       "      <td>0.05305</td>\n",
       "    </tr>\n",
       "    <tr>\n",
       "      <th>250127</th>\n",
       "      <td>NaN</td>\n",
       "      <td>140</td>\n",
       "      <td>9</td>\n",
       "      <td>25</td>\n",
       "      <td>Massachusetts</td>\n",
       "      <td>MA</td>\n",
       "      <td>Lawrence</td>\n",
       "      <td>Methuen Town City</td>\n",
       "      <td>City</td>\n",
       "      <td>tract</td>\n",
       "      <td>...</td>\n",
       "      <td>43.53905</td>\n",
       "      <td>43.66667</td>\n",
       "      <td>23.17995</td>\n",
       "      <td>900.13903</td>\n",
       "      <td>3723.0</td>\n",
       "      <td>0.84372</td>\n",
       "      <td>0.50269</td>\n",
       "      <td>0.00108</td>\n",
       "      <td>0.00108</td>\n",
       "      <td>0.07294</td>\n",
       "    </tr>\n",
       "    <tr>\n",
       "      <th>241096</th>\n",
       "      <td>NaN</td>\n",
       "      <td>140</td>\n",
       "      <td>27</td>\n",
       "      <td>19</td>\n",
       "      <td>Iowa</td>\n",
       "      <td>IA</td>\n",
       "      <td>Carroll</td>\n",
       "      <td>Carroll City</td>\n",
       "      <td>City</td>\n",
       "      <td>tract</td>\n",
       "      <td>...</td>\n",
       "      <td>45.63179</td>\n",
       "      <td>48.16667</td>\n",
       "      <td>24.84209</td>\n",
       "      <td>693.82905</td>\n",
       "      <td>3213.0</td>\n",
       "      <td>0.83330</td>\n",
       "      <td>0.66699</td>\n",
       "      <td>0.02738</td>\n",
       "      <td>0.00000</td>\n",
       "      <td>0.04694</td>\n",
       "    </tr>\n",
       "    <tr>\n",
       "      <th>287763</th>\n",
       "      <td>NaN</td>\n",
       "      <td>140</td>\n",
       "      <td>453</td>\n",
       "      <td>48</td>\n",
       "      <td>Texas</td>\n",
       "      <td>TX</td>\n",
       "      <td>Austin</td>\n",
       "      <td>Sunset Valley City</td>\n",
       "      <td>Town</td>\n",
       "      <td>tract</td>\n",
       "      <td>...</td>\n",
       "      <td>35.99955</td>\n",
       "      <td>35.41667</td>\n",
       "      <td>20.68049</td>\n",
       "      <td>559.30291</td>\n",
       "      <td>2047.0</td>\n",
       "      <td>0.52587</td>\n",
       "      <td>0.51922</td>\n",
       "      <td>0.08066</td>\n",
       "      <td>0.02520</td>\n",
       "      <td>0.10586</td>\n",
       "    </tr>\n",
       "  </tbody>\n",
       "</table>\n",
       "<p>11709 rows × 79 columns</p>\n",
       "</div>"
      ],
      "text/plain": [
       "        BLOCKID  SUMLEVEL  COUNTYID  STATEID          state state_ab  \\\n",
       "UID                                                                    \n",
       "255504      NaN       140       163       26       Michigan       MI   \n",
       "252676      NaN       140         1       23          Maine       ME   \n",
       "276314      NaN       140        15       42   Pennsylvania       PA   \n",
       "248614      NaN       140       231       21       Kentucky       KY   \n",
       "286865      NaN       140       355       48          Texas       TX   \n",
       "...         ...       ...       ...      ...            ...      ...   \n",
       "238088      NaN       140       105       12        Florida       FL   \n",
       "242811      NaN       140        31       17       Illinois       IL   \n",
       "250127      NaN       140         9       25  Massachusetts       MA   \n",
       "241096      NaN       140        27       19           Iowa       IA   \n",
       "287763      NaN       140       453       48          Texas       TX   \n",
       "\n",
       "                  city                  place     type primary  ...  \\\n",
       "UID                                                             ...   \n",
       "255504         Detroit  Dearborn Heights City      CDP   tract  ...   \n",
       "252676          Auburn            Auburn City     City   tract  ...   \n",
       "276314       Pine City              Millerton  Borough   tract  ...   \n",
       "248614      Monticello        Monticello City     City   tract  ...   \n",
       "286865  Corpus Christi                  Edroy     Town   tract  ...   \n",
       "...                ...                    ...      ...     ...  ...   \n",
       "238088        Lakeland        Crystal Springs     City   tract  ...   \n",
       "242811         Chicago           Chicago City  Village   tract  ...   \n",
       "250127        Lawrence      Methuen Town City     City   tract  ...   \n",
       "241096         Carroll           Carroll City     City   tract  ...   \n",
       "287763          Austin     Sunset Valley City     Town   tract  ...   \n",
       "\n",
       "        female_age_mean  female_age_median  female_age_stdev  \\\n",
       "UID                                                            \n",
       "255504         34.78682           33.75000          21.58531   \n",
       "252676         44.23451           46.66667          22.37036   \n",
       "276314         41.62426           44.50000          22.86213   \n",
       "248614         44.81200           48.00000          21.03155   \n",
       "286865         40.66618           42.66667          21.30900   \n",
       "...                 ...                ...               ...   \n",
       "238088         53.51255           59.58333          23.23426   \n",
       "242811         33.14169           32.83333          20.24698   \n",
       "250127         43.53905           43.66667          23.17995   \n",
       "241096         45.63179           48.16667          24.84209   \n",
       "287763         35.99955           35.41667          20.68049   \n",
       "\n",
       "        female_age_sample_weight  female_age_samples  pct_own  married  \\\n",
       "UID                                                                      \n",
       "255504                 416.48097              1938.0  0.70252  0.28217   \n",
       "252676                 532.03505              1950.0  0.85128  0.64221   \n",
       "276314                 453.11959              1879.0  0.81897  0.59961   \n",
       "248614                 263.94320              1081.0  0.84609  0.56953   \n",
       "286865                 709.90829              2956.0  0.79077  0.57620   \n",
       "...                          ...                 ...      ...      ...   \n",
       "238088                 699.33353              2914.0  0.93121  0.65969   \n",
       "242811                 306.63915              1191.0  0.33122  0.42882   \n",
       "250127                 900.13903              3723.0  0.84372  0.50269   \n",
       "241096                 693.82905              3213.0  0.83330  0.66699   \n",
       "287763                 559.30291              2047.0  0.52587  0.51922   \n",
       "\n",
       "        married_snp  separated  divorced  \n",
       "UID                                       \n",
       "255504      0.05910    0.03813   0.14299  \n",
       "252676      0.02338    0.00000   0.13377  \n",
       "276314      0.01746    0.01358   0.10026  \n",
       "248614      0.05492    0.04694   0.12489  \n",
       "286865      0.01726    0.00588   0.16379  \n",
       "...             ...        ...       ...  \n",
       "238088      0.02135    0.02135   0.08780  \n",
       "242811      0.07781    0.02829   0.05305  \n",
       "250127      0.00108    0.00108   0.07294  \n",
       "241096      0.02738    0.00000   0.04694  \n",
       "287763      0.08066    0.02520   0.10586  \n",
       "\n",
       "[11709 rows x 79 columns]"
      ]
     },
     "execution_count": 8,
     "metadata": {},
     "output_type": "execute_result"
    }
   ],
   "source": [
    "test.set_index(\"UID\")"
   ]
  },
  {
   "cell_type": "markdown",
   "id": "00cff93b",
   "metadata": {},
   "source": [
    "# Gauge the fill rate of the variables and devise plans for missing value treatment. Please explain explicitly the reason for the treatment chosen for each variable."
   ]
  },
  {
   "cell_type": "code",
   "execution_count": 9,
   "id": "d48c0c9e",
   "metadata": {},
   "outputs": [
    {
     "data": {
      "text/plain": [
       "UID                0\n",
       "BLOCKID        27321\n",
       "SUMLEVEL           0\n",
       "COUNTYID           0\n",
       "STATEID            0\n",
       "               ...  \n",
       "pct_own          268\n",
       "married          191\n",
       "married_snp      191\n",
       "separated        191\n",
       "divorced         191\n",
       "Length: 80, dtype: int64"
      ]
     },
     "execution_count": 9,
     "metadata": {},
     "output_type": "execute_result"
    }
   ],
   "source": [
    "train.isnull().sum()"
   ]
  },
  {
   "cell_type": "markdown",
   "id": "3afb02a0",
   "metadata": {},
   "source": [
    "since all the values of 'BLOCKID' are null values we can drop this column "
   ]
  },
  {
   "cell_type": "code",
   "execution_count": 10,
   "id": "e6a7d47a",
   "metadata": {},
   "outputs": [],
   "source": [
    "train.drop(['BLOCKID','SUMLEVEL'],axis=1,inplace=True)"
   ]
  },
  {
   "cell_type": "code",
   "execution_count": 11,
   "id": "c998c10e",
   "metadata": {},
   "outputs": [],
   "source": [
    "null_values=train.isnull().sum()*100/len(train)\n",
    "null_train=pd.DataFrame(null_values,columns=[\"pecentage of null values\"])"
   ]
  },
  {
   "cell_type": "code",
   "execution_count": 12,
   "id": "cbede3a3",
   "metadata": {},
   "outputs": [
    {
     "data": {
      "text/html": [
       "<div>\n",
       "<style scoped>\n",
       "    .dataframe tbody tr th:only-of-type {\n",
       "        vertical-align: middle;\n",
       "    }\n",
       "\n",
       "    .dataframe tbody tr th {\n",
       "        vertical-align: top;\n",
       "    }\n",
       "\n",
       "    .dataframe thead th {\n",
       "        text-align: right;\n",
       "    }\n",
       "</style>\n",
       "<table border=\"1\" class=\"dataframe\">\n",
       "  <thead>\n",
       "    <tr style=\"text-align: right;\">\n",
       "      <th></th>\n",
       "      <th>pecentage of null values</th>\n",
       "    </tr>\n",
       "  </thead>\n",
       "  <tbody>\n",
       "    <tr>\n",
       "      <th>UID</th>\n",
       "      <td>0.000000</td>\n",
       "    </tr>\n",
       "    <tr>\n",
       "      <th>COUNTYID</th>\n",
       "      <td>0.000000</td>\n",
       "    </tr>\n",
       "    <tr>\n",
       "      <th>STATEID</th>\n",
       "      <td>0.000000</td>\n",
       "    </tr>\n",
       "    <tr>\n",
       "      <th>state</th>\n",
       "      <td>0.000000</td>\n",
       "    </tr>\n",
       "    <tr>\n",
       "      <th>state_ab</th>\n",
       "      <td>0.000000</td>\n",
       "    </tr>\n",
       "    <tr>\n",
       "      <th>...</th>\n",
       "      <td>...</td>\n",
       "    </tr>\n",
       "    <tr>\n",
       "      <th>pct_own</th>\n",
       "      <td>0.980930</td>\n",
       "    </tr>\n",
       "    <tr>\n",
       "      <th>married</th>\n",
       "      <td>0.699096</td>\n",
       "    </tr>\n",
       "    <tr>\n",
       "      <th>married_snp</th>\n",
       "      <td>0.699096</td>\n",
       "    </tr>\n",
       "    <tr>\n",
       "      <th>separated</th>\n",
       "      <td>0.699096</td>\n",
       "    </tr>\n",
       "    <tr>\n",
       "      <th>divorced</th>\n",
       "      <td>0.699096</td>\n",
       "    </tr>\n",
       "  </tbody>\n",
       "</table>\n",
       "<p>78 rows × 1 columns</p>\n",
       "</div>"
      ],
      "text/plain": [
       "             pecentage of null values\n",
       "UID                          0.000000\n",
       "COUNTYID                     0.000000\n",
       "STATEID                      0.000000\n",
       "state                        0.000000\n",
       "state_ab                     0.000000\n",
       "...                               ...\n",
       "pct_own                      0.980930\n",
       "married                      0.699096\n",
       "married_snp                  0.699096\n",
       "separated                    0.699096\n",
       "divorced                     0.699096\n",
       "\n",
       "[78 rows x 1 columns]"
      ]
     },
     "execution_count": 12,
     "metadata": {},
     "output_type": "execute_result"
    }
   ],
   "source": [
    "null_train"
   ]
  },
  {
   "cell_type": "code",
   "execution_count": 13,
   "id": "a9a8278d",
   "metadata": {},
   "outputs": [
    {
     "name": "stderr",
     "output_type": "stream",
     "text": [
      "C:\\Users\\jayaj\\AppData\\Local\\Temp\\ipykernel_14616\\4020535406.py:1: FutureWarning: Dropping of nuisance columns in DataFrame reductions (with 'numeric_only=None') is deprecated; in a future version this will raise TypeError.  Select only valid columns before calling the reduction.\n",
      "  train_df=train.fillna(train.mean())\n"
     ]
    }
   ],
   "source": [
    "train_df=train.fillna(train.mean())"
   ]
  },
  {
   "cell_type": "code",
   "execution_count": 14,
   "id": "77f9f39a",
   "metadata": {},
   "outputs": [
    {
     "data": {
      "text/plain": [
       "0"
      ]
     },
     "execution_count": 14,
     "metadata": {},
     "output_type": "execute_result"
    }
   ],
   "source": [
    "train_df.isnull().sum().sum()"
   ]
  },
  {
   "cell_type": "code",
   "execution_count": 15,
   "id": "c93545be",
   "metadata": {},
   "outputs": [
    {
     "data": {
      "text/plain": [
       "(27321, 78)"
      ]
     },
     "execution_count": 15,
     "metadata": {},
     "output_type": "execute_result"
    }
   ],
   "source": [
    "train_df.shape"
   ]
  },
  {
   "cell_type": "code",
   "execution_count": 16,
   "id": "d67788e8",
   "metadata": {},
   "outputs": [
    {
     "data": {
      "text/plain": [
       "UID                0\n",
       "BLOCKID        11709\n",
       "SUMLEVEL           0\n",
       "COUNTYID           0\n",
       "STATEID            0\n",
       "               ...  \n",
       "pct_own          122\n",
       "married           84\n",
       "married_snp       84\n",
       "separated         84\n",
       "divorced          84\n",
       "Length: 80, dtype: int64"
      ]
     },
     "execution_count": 16,
     "metadata": {},
     "output_type": "execute_result"
    }
   ],
   "source": [
    "test.isnull().sum()"
   ]
  },
  {
   "cell_type": "code",
   "execution_count": 17,
   "id": "c9f7db07",
   "metadata": {},
   "outputs": [],
   "source": [
    "test.drop(['BLOCKID','SUMLEVEL'],axis=1,inplace=True)"
   ]
  },
  {
   "cell_type": "code",
   "execution_count": 18,
   "id": "b79a7f70",
   "metadata": {},
   "outputs": [],
   "source": [
    "null_values_test=test.isnull().sum()*100/len(test)\n",
    "null_test=pd.DataFrame(null_values_test,columns=[\"pecentage of null values\"])"
   ]
  },
  {
   "cell_type": "code",
   "execution_count": 19,
   "id": "53be62e3",
   "metadata": {},
   "outputs": [
    {
     "data": {
      "text/html": [
       "<div>\n",
       "<style scoped>\n",
       "    .dataframe tbody tr th:only-of-type {\n",
       "        vertical-align: middle;\n",
       "    }\n",
       "\n",
       "    .dataframe tbody tr th {\n",
       "        vertical-align: top;\n",
       "    }\n",
       "\n",
       "    .dataframe thead th {\n",
       "        text-align: right;\n",
       "    }\n",
       "</style>\n",
       "<table border=\"1\" class=\"dataframe\">\n",
       "  <thead>\n",
       "    <tr style=\"text-align: right;\">\n",
       "      <th></th>\n",
       "      <th>pecentage of null values</th>\n",
       "    </tr>\n",
       "  </thead>\n",
       "  <tbody>\n",
       "    <tr>\n",
       "      <th>UID</th>\n",
       "      <td>0.000000</td>\n",
       "    </tr>\n",
       "    <tr>\n",
       "      <th>COUNTYID</th>\n",
       "      <td>0.000000</td>\n",
       "    </tr>\n",
       "    <tr>\n",
       "      <th>STATEID</th>\n",
       "      <td>0.000000</td>\n",
       "    </tr>\n",
       "    <tr>\n",
       "      <th>state</th>\n",
       "      <td>0.000000</td>\n",
       "    </tr>\n",
       "    <tr>\n",
       "      <th>state_ab</th>\n",
       "      <td>0.000000</td>\n",
       "    </tr>\n",
       "    <tr>\n",
       "      <th>...</th>\n",
       "      <td>...</td>\n",
       "    </tr>\n",
       "    <tr>\n",
       "      <th>pct_own</th>\n",
       "      <td>1.041934</td>\n",
       "    </tr>\n",
       "    <tr>\n",
       "      <th>married</th>\n",
       "      <td>0.717397</td>\n",
       "    </tr>\n",
       "    <tr>\n",
       "      <th>married_snp</th>\n",
       "      <td>0.717397</td>\n",
       "    </tr>\n",
       "    <tr>\n",
       "      <th>separated</th>\n",
       "      <td>0.717397</td>\n",
       "    </tr>\n",
       "    <tr>\n",
       "      <th>divorced</th>\n",
       "      <td>0.717397</td>\n",
       "    </tr>\n",
       "  </tbody>\n",
       "</table>\n",
       "<p>78 rows × 1 columns</p>\n",
       "</div>"
      ],
      "text/plain": [
       "             pecentage of null values\n",
       "UID                          0.000000\n",
       "COUNTYID                     0.000000\n",
       "STATEID                      0.000000\n",
       "state                        0.000000\n",
       "state_ab                     0.000000\n",
       "...                               ...\n",
       "pct_own                      1.041934\n",
       "married                      0.717397\n",
       "married_snp                  0.717397\n",
       "separated                    0.717397\n",
       "divorced                     0.717397\n",
       "\n",
       "[78 rows x 1 columns]"
      ]
     },
     "execution_count": 19,
     "metadata": {},
     "output_type": "execute_result"
    }
   ],
   "source": [
    "null_test"
   ]
  },
  {
   "cell_type": "code",
   "execution_count": 20,
   "id": "c2c6a4f3",
   "metadata": {},
   "outputs": [
    {
     "name": "stderr",
     "output_type": "stream",
     "text": [
      "C:\\Users\\jayaj\\AppData\\Local\\Temp\\ipykernel_14616\\3467246593.py:1: FutureWarning: Dropping of nuisance columns in DataFrame reductions (with 'numeric_only=None') is deprecated; in a future version this will raise TypeError.  Select only valid columns before calling the reduction.\n",
      "  test_df=test.fillna(test.mean())\n"
     ]
    }
   ],
   "source": [
    "test_df=test.fillna(test.mean())"
   ]
  },
  {
   "cell_type": "code",
   "execution_count": 21,
   "id": "e9c9a45a",
   "metadata": {},
   "outputs": [
    {
     "data": {
      "text/plain": [
       "0"
      ]
     },
     "execution_count": 21,
     "metadata": {},
     "output_type": "execute_result"
    }
   ],
   "source": [
    "test_df.isnull().sum().sum()"
   ]
  },
  {
   "cell_type": "code",
   "execution_count": 22,
   "id": "d2b4e9c9",
   "metadata": {},
   "outputs": [
    {
     "data": {
      "text/plain": [
       "(11709, 78)"
      ]
     },
     "execution_count": 22,
     "metadata": {},
     "output_type": "execute_result"
    }
   ],
   "source": [
    "test_df.shape"
   ]
  },
  {
   "cell_type": "markdown",
   "id": "161b8135",
   "metadata": {},
   "source": [
    "# Exploratory Data Analysis (EDA):"
   ]
  },
  {
   "cell_type": "code",
   "execution_count": 23,
   "id": "f4997165",
   "metadata": {},
   "outputs": [
    {
     "data": {
      "text/plain": [
       "second_mortgage       \n",
       "0.0              2062     1.00000\n",
       "                 3108     1.00000\n",
       "                 4317     1.00000\n",
       "                 4874     1.00000\n",
       "                 4982     1.00000\n",
       "                           ...   \n",
       "1.0              17289    0.01213\n",
       "                 1211     0.01067\n",
       "                 17083    0.01067\n",
       "                 7413     0.00666\n",
       "                 16834    0.00225\n",
       "Name: pct_own, Length: 24686, dtype: float64"
      ]
     },
     "execution_count": 23,
     "metadata": {},
     "output_type": "execute_result"
    }
   ],
   "source": [
    "train_df.groupby(by=\"second_mortgage\")['pct_own'].nlargest(2500)"
   ]
  },
  {
   "cell_type": "markdown",
   "id": "9dced1c2",
   "metadata": {},
   "source": [
    "visualization using geo map is done using Tableau"
   ]
  },
  {
   "cell_type": "code",
   "execution_count": 24,
   "id": "2a6b110d",
   "metadata": {},
   "outputs": [],
   "source": [
    "train_df['Bad_Debt']=train_df['second_mortgage']+train_df['home_equity']-train_df['home_equity_second_mortgage']\n",
    "train_df['Good_Debt'] = train_df['debt'] - train_df['Bad_Debt']"
   ]
  },
  {
   "cell_type": "markdown",
   "id": "427ab7fb",
   "metadata": {},
   "source": [
    "# Create pie charts to show overall debt and bad debt"
   ]
  },
  {
   "cell_type": "code",
   "execution_count": 25,
   "id": "7be4ab46",
   "metadata": {},
   "outputs": [
    {
     "data": {
      "image/png": "[encoded data removed]",
      "text/plain": [
       "<Figure size 576x576 with 1 Axes>"
      ]
     },
     "metadata": {},
     "output_type": "display_data"
    }
   ],
   "source": [
    "labels=list(train_df.place[:10])\n",
    "debt=list(train_df.debt[:10])\n",
    "\n",
    "plt.figure(figsize=(8,8))\n",
    "plt.pie(debt, labels=labels,autopct='%1.1f%%', shadow=False, startangle=140)\n",
    "plt.title('Debt across diff places')\n",
    "plt.show()"
   ]
  },
  {
   "cell_type": "code",
   "execution_count": 26,
   "id": "9be72a96",
   "metadata": {},
   "outputs": [
    {
     "data": {
      "image/png": "[encoded data removed]",
      "text/plain": [
       "<Figure size 576x576 with 1 Axes>"
      ]
     },
     "metadata": {},
     "output_type": "display_data"
    }
   ],
   "source": [
    "labels=list(train_df.place[:10])\n",
    "Bad_debt=list(train_df['Bad_Debt'][:10])\n",
    "\n",
    "plt.figure(figsize=(8,8))\n",
    "plt.pie(Bad_debt, labels=labels,autopct='%1.1f%%', shadow=False, startangle=140)\n",
    "plt.title('Bad Debt across diff places')\n",
    "plt.show()"
   ]
  },
  {
   "cell_type": "markdown",
   "id": "1a00fbfc",
   "metadata": {},
   "source": [
    "### Create Box and whisker plot and analyze the distribution for 2nd mortgage, home equity, good debt, and bad debt for different cities"
   ]
  },
  {
   "cell_type": "code",
   "execution_count": 27,
   "id": "2c98ca78",
   "metadata": {},
   "outputs": [
    {
     "data": {
      "text/plain": [
       "Index(['Chicago', 'Brooklyn', 'Los Angeles', 'Houston', 'Philadelphia',\n",
       "       'San Antonio', 'Baltimore', 'Bronx', 'Las Vegas', 'Phoenix', 'Miami',\n",
       "       'Dallas', 'Detroit', 'New York', 'Columbus'],\n",
       "      dtype='object')"
      ]
     },
     "execution_count": 27,
     "metadata": {},
     "output_type": "execute_result"
    }
   ],
   "source": [
    "train_df['city'].value_counts()[:15].index"
   ]
  },
  {
   "cell_type": "code",
   "execution_count": 28,
   "id": "cc845183",
   "metadata": {},
   "outputs": [
    {
     "name": "stderr",
     "output_type": "stream",
     "text": [
      "F:\\New folder\\lib\\site-packages\\seaborn\\_decorators.py:36: FutureWarning: Pass the following variables as keyword args: x, y. From version 0.12, the only valid positional argument will be `data`, and passing other arguments without an explicit keyword will result in an error or misinterpretation.\n",
      "  warnings.warn(\n"
     ]
    },
    {
     "data": {
      "text/plain": [
       "<AxesSubplot:xlabel='city', ylabel='second_mortgage'>"
      ]
     },
     "execution_count": 28,
     "metadata": {},
     "output_type": "execute_result"
    },
    {
     "data": {
      "image/png": "[encoded data removed]",
      "text/plain": [
       "<Figure size 1080x576 with 1 Axes>"
      ]
     },
     "metadata": {
      "needs_background": "light"
     },
     "output_type": "display_data"
    }
   ],
   "source": [
    "City=['Chicago', 'Brooklyn', 'Los Angeles', 'Houston', 'Philadelphia',\n",
    "       'San Antonio', 'Baltimore', 'Las Vegas', 'Phoenix', 'Miami', 'Detroit',\n",
    "       'Bronx', 'Columbus', 'Dallas', 'Springfield']\n",
    "plt.figure(figsize=(15,8))\n",
    "plt.xticks(rotation = 45)\n",
    "sns.boxplot('city','second_mortgage',data=train_df,order=['Chicago', 'Brooklyn', 'Los Angeles', 'Houston', 'Philadelphia',\n",
    "       'San Antonio', 'Baltimore', 'Las Vegas', 'Phoenix', 'Miami', 'Detroit','Bronx', 'Columbus', 'Dallas', 'Springfield'])"
   ]
  },
  {
   "cell_type": "code",
   "execution_count": 29,
   "id": "819546ae",
   "metadata": {},
   "outputs": [
    {
     "data": {
      "text/plain": [
       "Index(['UID', 'COUNTYID', 'STATEID', 'state', 'state_ab', 'city', 'place',\n",
       "       'type', 'primary', 'zip_code', 'area_code', 'lat', 'lng', 'ALand',\n",
       "       'AWater', 'pop', 'male_pop', 'female_pop', 'rent_mean', 'rent_median',\n",
       "       'rent_stdev', 'rent_sample_weight', 'rent_samples', 'rent_gt_10',\n",
       "       'rent_gt_15', 'rent_gt_20', 'rent_gt_25', 'rent_gt_30', 'rent_gt_35',\n",
       "       'rent_gt_40', 'rent_gt_50', 'universe_samples', 'used_samples',\n",
       "       'hi_mean', 'hi_median', 'hi_stdev', 'hi_sample_weight', 'hi_samples',\n",
       "       'family_mean', 'family_median', 'family_stdev', 'family_sample_weight',\n",
       "       'family_samples', 'hc_mortgage_mean', 'hc_mortgage_median',\n",
       "       'hc_mortgage_stdev', 'hc_mortgage_sample_weight', 'hc_mortgage_samples',\n",
       "       'hc_mean', 'hc_median', 'hc_stdev', 'hc_samples', 'hc_sample_weight',\n",
       "       'home_equity_second_mortgage', 'second_mortgage', 'home_equity', 'debt',\n",
       "       'second_mortgage_cdf', 'home_equity_cdf', 'debt_cdf', 'hs_degree',\n",
       "       'hs_degree_male', 'hs_degree_female', 'male_age_mean',\n",
       "       'male_age_median', 'male_age_stdev', 'male_age_sample_weight',\n",
       "       'male_age_samples', 'female_age_mean', 'female_age_median',\n",
       "       'female_age_stdev', 'female_age_sample_weight', 'female_age_samples',\n",
       "       'pct_own', 'married', 'married_snp', 'separated', 'divorced',\n",
       "       'Bad_Debt', 'Good_Debt'],\n",
       "      dtype='object')"
      ]
     },
     "execution_count": 29,
     "metadata": {},
     "output_type": "execute_result"
    }
   ],
   "source": [
    "train_df.columns"
   ]
  },
  {
   "cell_type": "code",
   "execution_count": 30,
   "id": "639f78c7",
   "metadata": {},
   "outputs": [
    {
     "name": "stderr",
     "output_type": "stream",
     "text": [
      "F:\\New folder\\lib\\site-packages\\seaborn\\_decorators.py:36: FutureWarning: Pass the following variables as keyword args: x, y. From version 0.12, the only valid positional argument will be `data`, and passing other arguments without an explicit keyword will result in an error or misinterpretation.\n",
      "  warnings.warn(\n"
     ]
    },
    {
     "data": {
      "text/plain": [
       "<AxesSubplot:xlabel='city', ylabel='home_equity'>"
      ]
     },
     "execution_count": 30,
     "metadata": {},
     "output_type": "execute_result"
    },
    {
     "data": {
      "image/png": "[encoded data removed]",
      "text/plain": [
       "<Figure size 1080x576 with 1 Axes>"
      ]
     },
     "metadata": {
      "needs_background": "light"
     },
     "output_type": "display_data"
    }
   ],
   "source": [
    "plt.figure(figsize=(15,8))\n",
    "plt.xticks(rotation = 45)\n",
    "sns.boxplot('city','home_equity',data=train_df,order=['Chicago', 'Brooklyn', 'Los Angeles', 'Houston', 'Philadelphia',\n",
    "       'San Antonio', 'Baltimore', 'Las Vegas', 'Phoenix', 'Miami', 'Detroit','Bronx', 'Columbus', 'Dallas', 'Springfield'])"
   ]
  },
  {
   "cell_type": "code",
   "execution_count": 31,
   "id": "34fa7abb",
   "metadata": {},
   "outputs": [
    {
     "name": "stderr",
     "output_type": "stream",
     "text": [
      "F:\\New folder\\lib\\site-packages\\seaborn\\_decorators.py:36: FutureWarning: Pass the following variables as keyword args: x, y. From version 0.12, the only valid positional argument will be `data`, and passing other arguments without an explicit keyword will result in an error or misinterpretation.\n",
      "  warnings.warn(\n"
     ]
    },
    {
     "data": {
      "text/plain": [
       "<AxesSubplot:xlabel='city', ylabel='Bad_Debt'>"
      ]
     },
     "execution_count": 31,
     "metadata": {},
     "output_type": "execute_result"
    },
    {
     "data": {
      "image/png": "[encoded data removed]",
      "text/plain": [
       "<Figure size 1080x576 with 1 Axes>"
      ]
     },
     "metadata": {
      "needs_background": "light"
     },
     "output_type": "display_data"
    }
   ],
   "source": [
    "plt.figure(figsize=(15,8))\n",
    "plt.xticks(rotation = 45)\n",
    "sns.boxplot('city','Bad_Debt',data=train_df,order=['Chicago', 'Brooklyn', 'Los Angeles', 'Houston', 'Philadelphia',\n",
    "       'San Antonio', 'Baltimore', 'Las Vegas', 'Phoenix', 'Miami', 'Detroit','Bronx', 'Columbus', 'Dallas', 'Springfield'])"
   ]
  },
  {
   "cell_type": "markdown",
   "id": "4afbb4df",
   "metadata": {},
   "source": [
    "### Create a collated income distribution chart for family income, house hold income, and remaining income"
   ]
  },
  {
   "cell_type": "code",
   "execution_count": 32,
   "id": "61e8ea46",
   "metadata": {},
   "outputs": [
    {
     "name": "stderr",
     "output_type": "stream",
     "text": [
      "F:\\New folder\\lib\\site-packages\\seaborn\\distributions.py:2619: FutureWarning: `distplot` is a deprecated function and will be removed in a future version. Please adapt your code to use either `displot` (a figure-level function with similar flexibility) or `histplot` (an axes-level function for histograms).\n",
      "  warnings.warn(msg, FutureWarning)\n"
     ]
    },
    {
     "data": {
      "image/png": "[encoded data removed]",
      "text/plain": [
       "<Figure size 432x288 with 1 Axes>"
      ]
     },
     "metadata": {
      "needs_background": "light"
     },
     "output_type": "display_data"
    }
   ],
   "source": [
    "sns.distplot(train_df['family_mean'])\n",
    "plt.title('family income distribution chart')\n",
    "plt.show()"
   ]
  },
  {
   "cell_type": "code",
   "execution_count": 33,
   "id": "ef847d67",
   "metadata": {},
   "outputs": [
    {
     "name": "stderr",
     "output_type": "stream",
     "text": [
      "F:\\New folder\\lib\\site-packages\\seaborn\\distributions.py:2619: FutureWarning: `distplot` is a deprecated function and will be removed in a future version. Please adapt your code to use either `displot` (a figure-level function with similar flexibility) or `histplot` (an axes-level function for histograms).\n",
      "  warnings.warn(msg, FutureWarning)\n"
     ]
    },
    {
     "data": {
      "image/png": "[encoded data removed]",
      "text/plain": [
       "<Figure size 432x288 with 1 Axes>"
      ]
     },
     "metadata": {
      "needs_background": "light"
     },
     "output_type": "display_data"
    }
   ],
   "source": [
    "sns.distplot(train_df['family_mean'])\n",
    "plt.title('family income distribution chart')\n",
    "plt.show()"
   ]
  },
  {
   "cell_type": "code",
   "execution_count": 34,
   "id": "a4fcb808",
   "metadata": {},
   "outputs": [],
   "source": [
    "train_df['remaining income']=train_df['family_mean']-train_df['hi_mean']"
   ]
  },
  {
   "cell_type": "code",
   "execution_count": 35,
   "id": "b96ff384",
   "metadata": {},
   "outputs": [
    {
     "name": "stderr",
     "output_type": "stream",
     "text": [
      "F:\\New folder\\lib\\site-packages\\seaborn\\distributions.py:2619: FutureWarning: `distplot` is a deprecated function and will be removed in a future version. Please adapt your code to use either `displot` (a figure-level function with similar flexibility) or `histplot` (an axes-level function for histograms).\n",
      "  warnings.warn(msg, FutureWarning)\n"
     ]
    },
    {
     "data": {
      "image/png": "[encoded data removed]",
      "text/plain": [
       "<Figure size 432x288 with 1 Axes>"
      ]
     },
     "metadata": {
      "needs_background": "light"
     },
     "output_type": "display_data"
    }
   ],
   "source": [
    "sns.distplot(train_df['remaining income'])\n",
    "plt.title('remaining income distribution chart')\n",
    "plt.show()"
   ]
  },
  {
   "cell_type": "markdown",
   "id": "132da223",
   "metadata": {},
   "source": [
    "# Exploratory Data Analysis (EDA):"
   ]
  },
  {
   "cell_type": "markdown",
   "id": "3ebf22ad",
   "metadata": {},
   "source": [
    "### Use pop and ALand variables to create a new field called population density"
   ]
  },
  {
   "cell_type": "code",
   "execution_count": 36,
   "id": "71bd9a8a",
   "metadata": {},
   "outputs": [],
   "source": [
    "train_df['pop_density']=train_df['pop']/train_df['ALand']"
   ]
  },
  {
   "cell_type": "code",
   "execution_count": 37,
   "id": "2c9d4cbb",
   "metadata": {},
   "outputs": [
    {
     "name": "stderr",
     "output_type": "stream",
     "text": [
      "F:\\New folder\\lib\\site-packages\\seaborn\\distributions.py:2619: FutureWarning: `distplot` is a deprecated function and will be removed in a future version. Please adapt your code to use either `displot` (a figure-level function with similar flexibility) or `histplot` (an axes-level function for histograms).\n",
      "  warnings.warn(msg, FutureWarning)\n"
     ]
    },
    {
     "data": {
      "image/png": "[encoded data removed]",
      "text/plain": [
       "<Figure size 432x288 with 1 Axes>"
      ]
     },
     "metadata": {
      "needs_background": "light"
     },
     "output_type": "display_data"
    }
   ],
   "source": [
    "sns.distplot(train_df['pop_density'])\n",
    "plt.title('Population Density')\n",
    "plt.show()"
   ]
  },
  {
   "cell_type": "markdown",
   "id": "2d655254",
   "metadata": {},
   "source": [
    "### Use male_age_median, female_age_median, male_pop, and female_pop to create a new field called median age "
   ]
  },
  {
   "cell_type": "code",
   "execution_count": 38,
   "id": "a5858681",
   "metadata": {},
   "outputs": [],
   "source": [
    "train_df['median_age']=(train_df['male_age_median']*train_df['male_pop']+train_df['female_age_median']*train_df['female_pop'])/train_df['pop']"
   ]
  },
  {
   "cell_type": "code",
   "execution_count": 39,
   "id": "81b120cc",
   "metadata": {},
   "outputs": [
    {
     "data": {
      "text/html": [
       "<div>\n",
       "<style scoped>\n",
       "    .dataframe tbody tr th:only-of-type {\n",
       "        vertical-align: middle;\n",
       "    }\n",
       "\n",
       "    .dataframe tbody tr th {\n",
       "        vertical-align: top;\n",
       "    }\n",
       "\n",
       "    .dataframe thead th {\n",
       "        text-align: right;\n",
       "    }\n",
       "</style>\n",
       "<table border=\"1\" class=\"dataframe\">\n",
       "  <thead>\n",
       "    <tr style=\"text-align: right;\">\n",
       "      <th></th>\n",
       "      <th>median_age</th>\n",
       "      <th>male_age_median</th>\n",
       "      <th>female_age_median</th>\n",
       "      <th>male_pop</th>\n",
       "      <th>female_pop</th>\n",
       "    </tr>\n",
       "  </thead>\n",
       "  <tbody>\n",
       "    <tr>\n",
       "      <th>0</th>\n",
       "      <td>44.667430</td>\n",
       "      <td>44.00000</td>\n",
       "      <td>45.33333</td>\n",
       "      <td>2612</td>\n",
       "      <td>2618</td>\n",
       "    </tr>\n",
       "    <tr>\n",
       "      <th>1</th>\n",
       "      <td>34.722748</td>\n",
       "      <td>32.00000</td>\n",
       "      <td>37.58333</td>\n",
       "      <td>1349</td>\n",
       "      <td>1284</td>\n",
       "    </tr>\n",
       "    <tr>\n",
       "      <th>2</th>\n",
       "      <td>41.774472</td>\n",
       "      <td>40.83333</td>\n",
       "      <td>42.83333</td>\n",
       "      <td>3643</td>\n",
       "      <td>3238</td>\n",
       "    </tr>\n",
       "    <tr>\n",
       "      <th>3</th>\n",
       "      <td>49.879012</td>\n",
       "      <td>48.91667</td>\n",
       "      <td>50.58333</td>\n",
       "      <td>1141</td>\n",
       "      <td>1559</td>\n",
       "    </tr>\n",
       "    <tr>\n",
       "      <th>4</th>\n",
       "      <td>21.965629</td>\n",
       "      <td>22.41667</td>\n",
       "      <td>21.58333</td>\n",
       "      <td>2586</td>\n",
       "      <td>3051</td>\n",
       "    </tr>\n",
       "  </tbody>\n",
       "</table>\n",
       "</div>"
      ],
      "text/plain": [
       "   median_age  male_age_median  female_age_median  male_pop  female_pop\n",
       "0   44.667430         44.00000           45.33333      2612        2618\n",
       "1   34.722748         32.00000           37.58333      1349        1284\n",
       "2   41.774472         40.83333           42.83333      3643        3238\n",
       "3   49.879012         48.91667           50.58333      1141        1559\n",
       "4   21.965629         22.41667           21.58333      2586        3051"
      ]
     },
     "execution_count": 39,
     "metadata": {},
     "output_type": "execute_result"
    }
   ],
   "source": [
    "train_df[['median_age','male_age_median', 'female_age_median', 'male_pop','female_pop']].head()"
   ]
  },
  {
   "cell_type": "code",
   "execution_count": 40,
   "id": "587fda3e",
   "metadata": {},
   "outputs": [
    {
     "name": "stderr",
     "output_type": "stream",
     "text": [
      "F:\\New folder\\lib\\site-packages\\seaborn\\distributions.py:2619: FutureWarning: `distplot` is a deprecated function and will be removed in a future version. Please adapt your code to use either `displot` (a figure-level function with similar flexibility) or `histplot` (an axes-level function for histograms).\n",
      "  warnings.warn(msg, FutureWarning)\n"
     ]
    },
    {
     "data": {
      "image/png": "[encoded data removed]",
      "text/plain": [
       "<Figure size 432x288 with 1 Axes>"
      ]
     },
     "metadata": {
      "needs_background": "light"
     },
     "output_type": "display_data"
    }
   ],
   "source": [
    "sns.distplot(train_df['median_age'])\n",
    "plt.title('Median Age')\n",
    "plt.show()"
   ]
  },
  {
   "cell_type": "markdown",
   "id": "a67e5a38",
   "metadata": {},
   "source": [
    "### Create bins for population into a new variable by selecting appropriate class interval so that the number of categories don’t exceed 5 for the ease of analysis"
   ]
  },
  {
   "cell_type": "code",
   "execution_count": 41,
   "id": "35067094",
   "metadata": {},
   "outputs": [],
   "source": [
    "train_df['pop_category']=pd.cut(train_df['pop'],bins=5,labels=['very low','low','average','high','very high'])"
   ]
  },
  {
   "cell_type": "code",
   "execution_count": 42,
   "id": "41db7410",
   "metadata": {},
   "outputs": [
    {
     "data": {
      "text/html": [
       "<div>\n",
       "<style scoped>\n",
       "    .dataframe tbody tr th:only-of-type {\n",
       "        vertical-align: middle;\n",
       "    }\n",
       "\n",
       "    .dataframe tbody tr th {\n",
       "        vertical-align: top;\n",
       "    }\n",
       "\n",
       "    .dataframe thead th {\n",
       "        text-align: right;\n",
       "    }\n",
       "</style>\n",
       "<table border=\"1\" class=\"dataframe\">\n",
       "  <thead>\n",
       "    <tr style=\"text-align: right;\">\n",
       "      <th></th>\n",
       "      <th>pop</th>\n",
       "      <th>pop_category</th>\n",
       "    </tr>\n",
       "  </thead>\n",
       "  <tbody>\n",
       "    <tr>\n",
       "      <th>0</th>\n",
       "      <td>5230</td>\n",
       "      <td>very low</td>\n",
       "    </tr>\n",
       "    <tr>\n",
       "      <th>1</th>\n",
       "      <td>2633</td>\n",
       "      <td>very low</td>\n",
       "    </tr>\n",
       "    <tr>\n",
       "      <th>2</th>\n",
       "      <td>6881</td>\n",
       "      <td>very low</td>\n",
       "    </tr>\n",
       "    <tr>\n",
       "      <th>3</th>\n",
       "      <td>2700</td>\n",
       "      <td>very low</td>\n",
       "    </tr>\n",
       "    <tr>\n",
       "      <th>4</th>\n",
       "      <td>5637</td>\n",
       "      <td>very low</td>\n",
       "    </tr>\n",
       "    <tr>\n",
       "      <th>...</th>\n",
       "      <td>...</td>\n",
       "      <td>...</td>\n",
       "    </tr>\n",
       "    <tr>\n",
       "      <th>27316</th>\n",
       "      <td>1847</td>\n",
       "      <td>very low</td>\n",
       "    </tr>\n",
       "    <tr>\n",
       "      <th>27317</th>\n",
       "      <td>4155</td>\n",
       "      <td>very low</td>\n",
       "    </tr>\n",
       "    <tr>\n",
       "      <th>27318</th>\n",
       "      <td>2829</td>\n",
       "      <td>very low</td>\n",
       "    </tr>\n",
       "    <tr>\n",
       "      <th>27319</th>\n",
       "      <td>11542</td>\n",
       "      <td>low</td>\n",
       "    </tr>\n",
       "    <tr>\n",
       "      <th>27320</th>\n",
       "      <td>3726</td>\n",
       "      <td>very low</td>\n",
       "    </tr>\n",
       "  </tbody>\n",
       "</table>\n",
       "<p>27321 rows × 2 columns</p>\n",
       "</div>"
      ],
      "text/plain": [
       "         pop pop_category\n",
       "0       5230     very low\n",
       "1       2633     very low\n",
       "2       6881     very low\n",
       "3       2700     very low\n",
       "4       5637     very low\n",
       "...      ...          ...\n",
       "27316   1847     very low\n",
       "27317   4155     very low\n",
       "27318   2829     very low\n",
       "27319  11542          low\n",
       "27320   3726     very low\n",
       "\n",
       "[27321 rows x 2 columns]"
      ]
     },
     "execution_count": 42,
     "metadata": {},
     "output_type": "execute_result"
    }
   ],
   "source": [
    "train_df[['pop','pop_category']]"
   ]
  },
  {
   "cell_type": "markdown",
   "id": "fff2ecad",
   "metadata": {},
   "source": [
    "### Analyze the married, separated, and divorced population for these population brackets"
   ]
  },
  {
   "cell_type": "code",
   "execution_count": 43,
   "id": "30f01788",
   "metadata": {},
   "outputs": [
    {
     "data": {
      "text/html": [
       "<div>\n",
       "<style scoped>\n",
       "    .dataframe tbody tr th:only-of-type {\n",
       "        vertical-align: middle;\n",
       "    }\n",
       "\n",
       "    .dataframe tbody tr th {\n",
       "        vertical-align: top;\n",
       "    }\n",
       "\n",
       "    .dataframe thead tr th {\n",
       "        text-align: left;\n",
       "    }\n",
       "\n",
       "    .dataframe thead tr:last-of-type th {\n",
       "        text-align: right;\n",
       "    }\n",
       "</style>\n",
       "<table border=\"1\" class=\"dataframe\">\n",
       "  <thead>\n",
       "    <tr>\n",
       "      <th></th>\n",
       "      <th>married</th>\n",
       "      <th>separated</th>\n",
       "      <th>divorced</th>\n",
       "    </tr>\n",
       "    <tr>\n",
       "      <th></th>\n",
       "      <th>mean</th>\n",
       "      <th>mean</th>\n",
       "      <th>mean</th>\n",
       "    </tr>\n",
       "    <tr>\n",
       "      <th>pop_category</th>\n",
       "      <th></th>\n",
       "      <th></th>\n",
       "      <th></th>\n",
       "    </tr>\n",
       "  </thead>\n",
       "  <tbody>\n",
       "    <tr>\n",
       "      <th>very low</th>\n",
       "      <td>0.507548</td>\n",
       "      <td>0.019126</td>\n",
       "      <td>0.100504</td>\n",
       "    </tr>\n",
       "    <tr>\n",
       "      <th>low</th>\n",
       "      <td>0.584894</td>\n",
       "      <td>0.015833</td>\n",
       "      <td>0.075348</td>\n",
       "    </tr>\n",
       "    <tr>\n",
       "      <th>average</th>\n",
       "      <td>0.655737</td>\n",
       "      <td>0.005003</td>\n",
       "      <td>0.065927</td>\n",
       "    </tr>\n",
       "    <tr>\n",
       "      <th>high</th>\n",
       "      <td>0.503359</td>\n",
       "      <td>0.008141</td>\n",
       "      <td>0.039030</td>\n",
       "    </tr>\n",
       "    <tr>\n",
       "      <th>very high</th>\n",
       "      <td>0.734740</td>\n",
       "      <td>0.004050</td>\n",
       "      <td>0.030360</td>\n",
       "    </tr>\n",
       "  </tbody>\n",
       "</table>\n",
       "</div>"
      ],
      "text/plain": [
       "               married separated  divorced\n",
       "                  mean      mean      mean\n",
       "pop_category                              \n",
       "very low      0.507548  0.019126  0.100504\n",
       "low           0.584894  0.015833  0.075348\n",
       "average       0.655737  0.005003  0.065927\n",
       "high          0.503359  0.008141  0.039030\n",
       "very high     0.734740  0.004050  0.030360"
      ]
     },
     "execution_count": 43,
     "metadata": {},
     "output_type": "execute_result"
    }
   ],
   "source": [
    "train_df.groupby(by='pop_category')[['married','separated','divorced']].agg(['mean'])"
   ]
  },
  {
   "cell_type": "markdown",
   "id": "85b9e454",
   "metadata": {},
   "source": [
    "### Visualize using appropriate chart type"
   ]
  },
  {
   "cell_type": "code",
   "execution_count": 44,
   "id": "a3fb9a3d",
   "metadata": {},
   "outputs": [
    {
     "data": {
      "image/png": "[encoded data removed]",
      "text/plain": [
       "<Figure size 576x360 with 1 Axes>"
      ]
     },
     "metadata": {
      "needs_background": "light"
     },
     "output_type": "display_data"
    }
   ],
   "source": [
    "mean_data=train_df.groupby(by='pop_category')[['married','separated','divorced']].agg(['mean'])\n",
    "mean_data.plot(figsize=(8,5))\n",
    "plt.legend()\n",
    "plt.show()"
   ]
  },
  {
   "cell_type": "markdown",
   "id": "244aace2",
   "metadata": {},
   "source": [
    "### Please detail your observations for rent as a percentage of income at an overall level, and for different states."
   ]
  },
  {
   "cell_type": "code",
   "execution_count": 45,
   "id": "c733df37",
   "metadata": {},
   "outputs": [],
   "source": [
    "overall_rent_as_percentage=(train_df['rent_mean'].sum()/train_df['hi_mean'].sum())*100"
   ]
  },
  {
   "cell_type": "code",
   "execution_count": 46,
   "id": "c3391334",
   "metadata": {},
   "outputs": [
    {
     "data": {
      "text/plain": [
       "1.4978864084231298"
      ]
     },
     "execution_count": 46,
     "metadata": {},
     "output_type": "execute_result"
    }
   ],
   "source": [
    "overall_rent_as_percentage"
   ]
  },
  {
   "cell_type": "code",
   "execution_count": 47,
   "id": "8d74d61c",
   "metadata": {},
   "outputs": [],
   "source": [
    "train_df['overall_rent_as_percentage']=(train_df['rent_mean']/train_df['hi_mean'])*100"
   ]
  },
  {
   "cell_type": "code",
   "execution_count": 48,
   "id": "423d17d5",
   "metadata": {},
   "outputs": [
    {
     "data": {
      "text/html": [
       "<div>\n",
       "<style scoped>\n",
       "    .dataframe tbody tr th:only-of-type {\n",
       "        vertical-align: middle;\n",
       "    }\n",
       "\n",
       "    .dataframe tbody tr th {\n",
       "        vertical-align: top;\n",
       "    }\n",
       "\n",
       "    .dataframe thead th {\n",
       "        text-align: right;\n",
       "    }\n",
       "</style>\n",
       "<table border=\"1\" class=\"dataframe\">\n",
       "  <thead>\n",
       "    <tr style=\"text-align: right;\">\n",
       "      <th></th>\n",
       "      <th>state</th>\n",
       "      <th>overall_rent_as_percentage</th>\n",
       "    </tr>\n",
       "  </thead>\n",
       "  <tbody>\n",
       "    <tr>\n",
       "      <th>0</th>\n",
       "      <td>New York</td>\n",
       "      <td>1.218824</td>\n",
       "    </tr>\n",
       "    <tr>\n",
       "      <th>1</th>\n",
       "      <td>Indiana</td>\n",
       "      <td>1.919490</td>\n",
       "    </tr>\n",
       "    <tr>\n",
       "      <th>2</th>\n",
       "      <td>Indiana</td>\n",
       "      <td>0.874441</td>\n",
       "    </tr>\n",
       "    <tr>\n",
       "      <th>3</th>\n",
       "      <td>Puerto Rico</td>\n",
       "      <td>1.648594</td>\n",
       "    </tr>\n",
       "    <tr>\n",
       "      <th>4</th>\n",
       "      <td>Kansas</td>\n",
       "      <td>2.948295</td>\n",
       "    </tr>\n",
       "    <tr>\n",
       "      <th>...</th>\n",
       "      <td>...</td>\n",
       "      <td>...</td>\n",
       "    </tr>\n",
       "    <tr>\n",
       "      <th>27316</th>\n",
       "      <td>Puerto Rico</td>\n",
       "      <td>2.373278</td>\n",
       "    </tr>\n",
       "    <tr>\n",
       "      <th>27317</th>\n",
       "      <td>Pennsylvania</td>\n",
       "      <td>1.512392</td>\n",
       "    </tr>\n",
       "    <tr>\n",
       "      <th>27318</th>\n",
       "      <td>Colorado</td>\n",
       "      <td>1.063197</td>\n",
       "    </tr>\n",
       "    <tr>\n",
       "      <th>27319</th>\n",
       "      <td>Texas</td>\n",
       "      <td>1.191743</td>\n",
       "    </tr>\n",
       "    <tr>\n",
       "      <th>27320</th>\n",
       "      <td>Nevada</td>\n",
       "      <td>1.839062</td>\n",
       "    </tr>\n",
       "  </tbody>\n",
       "</table>\n",
       "<p>27321 rows × 2 columns</p>\n",
       "</div>"
      ],
      "text/plain": [
       "              state  overall_rent_as_percentage\n",
       "0          New York                    1.218824\n",
       "1           Indiana                    1.919490\n",
       "2           Indiana                    0.874441\n",
       "3       Puerto Rico                    1.648594\n",
       "4            Kansas                    2.948295\n",
       "...             ...                         ...\n",
       "27316   Puerto Rico                    2.373278\n",
       "27317  Pennsylvania                    1.512392\n",
       "27318      Colorado                    1.063197\n",
       "27319         Texas                    1.191743\n",
       "27320        Nevada                    1.839062\n",
       "\n",
       "[27321 rows x 2 columns]"
      ]
     },
     "execution_count": 48,
     "metadata": {},
     "output_type": "execute_result"
    }
   ],
   "source": [
    "train_df[['state','overall_rent_as_percentage']]"
   ]
  },
  {
   "cell_type": "markdown",
   "id": "ee98b537",
   "metadata": {},
   "source": [
    "### Perform correlation analysis for all the relevant variables by creating a heatmap. Describe your findings."
   ]
  },
  {
   "cell_type": "code",
   "execution_count": 49,
   "id": "be13ce86",
   "metadata": {},
   "outputs": [
    {
     "data": {
      "text/plain": [
       "Index(['UID', 'COUNTYID', 'STATEID', 'state', 'state_ab', 'city', 'place',\n",
       "       'type', 'primary', 'zip_code', 'area_code', 'lat', 'lng', 'ALand',\n",
       "       'AWater', 'pop', 'male_pop', 'female_pop', 'rent_mean', 'rent_median',\n",
       "       'rent_stdev', 'rent_sample_weight', 'rent_samples', 'rent_gt_10',\n",
       "       'rent_gt_15', 'rent_gt_20', 'rent_gt_25', 'rent_gt_30', 'rent_gt_35',\n",
       "       'rent_gt_40', 'rent_gt_50', 'universe_samples', 'used_samples',\n",
       "       'hi_mean', 'hi_median', 'hi_stdev', 'hi_sample_weight', 'hi_samples',\n",
       "       'family_mean', 'family_median', 'family_stdev', 'family_sample_weight',\n",
       "       'family_samples', 'hc_mortgage_mean', 'hc_mortgage_median',\n",
       "       'hc_mortgage_stdev', 'hc_mortgage_sample_weight', 'hc_mortgage_samples',\n",
       "       'hc_mean', 'hc_median', 'hc_stdev', 'hc_samples', 'hc_sample_weight',\n",
       "       'home_equity_second_mortgage', 'second_mortgage', 'home_equity', 'debt',\n",
       "       'second_mortgage_cdf', 'home_equity_cdf', 'debt_cdf', 'hs_degree',\n",
       "       'hs_degree_male', 'hs_degree_female', 'male_age_mean',\n",
       "       'male_age_median', 'male_age_stdev', 'male_age_sample_weight',\n",
       "       'male_age_samples', 'female_age_mean', 'female_age_median',\n",
       "       'female_age_stdev', 'female_age_sample_weight', 'female_age_samples',\n",
       "       'pct_own', 'married', 'married_snp', 'separated', 'divorced',\n",
       "       'Bad_Debt', 'Good_Debt', 'remaining income', 'pop_density',\n",
       "       'median_age', 'pop_category', 'overall_rent_as_percentage'],\n",
       "      dtype='object')"
      ]
     },
     "execution_count": 49,
     "metadata": {},
     "output_type": "execute_result"
    }
   ],
   "source": [
    "train_df.columns"
   ]
  },
  {
   "cell_type": "code",
   "execution_count": 50,
   "id": "594e0c43",
   "metadata": {},
   "outputs": [
    {
     "data": {
      "text/plain": [
       "<AxesSubplot:>"
      ]
     },
     "execution_count": 50,
     "metadata": {},
     "output_type": "execute_result"
    },
    {
     "data": {
      "image/png": "[encoded data removed]",
      "text/plain": [
       "<Figure size 1440x1440 with 2 Axes>"
      ]
     },
     "metadata": {
      "needs_background": "light"
     },
     "output_type": "display_data"
    }
   ],
   "source": [
    "plt.figure(figsize=(20,20))\n",
    "corr_col=train_df[['COUNTYID', 'STATEID','type','zip_code', 'area_code','pop', 'rent_mean','hi_mean','family_mean','hc_mortgage_mean',\n",
    "       'hc_mean','home_equity_second_mortgage', 'second_mortgage','home_equity', 'debt','hs_degree','pct_own', 'married',\n",
    "       'divorced']].corr()\n",
    "sns.heatmap(corr_col,annot=True)"
   ]
  },
  {
   "cell_type": "markdown",
   "id": "1c642bd3",
   "metadata": {},
   "source": [
    "hi_mean has a high +ve correlation with hc_mortgage_mean,family_mean,rent_mean.\n",
    "rent_mean has a +ve correlation with hc_mortgage_mean,family_mean.\n",
    "family_mean is also correlated with hc_mortgage_mean.\n",
    "hc_mean and hc_mortgage_mean is also highly correlated.\n",
    "second_mortgage and home_equity_second_mortgage is also highly correlated."
   ]
  },
  {
   "cell_type": "markdown",
   "id": "a6aaeb0f",
   "metadata": {},
   "source": [
    "#### The economic multivariate data has a significant number of measured variables. The goal is to find where the measured variables depend on a number of smaller unobserved common factors or latent variables. 2. Each variable is assumed to be dependent upon a linear combination of the common factors, and the coefficients are known as loadings. Each measured variable also includes a component due to independent      random variability, known as “specific variance” because it is specific to one variable. Obtain the common factors and then plot the loadings. Use factor analysis to find latent variables in our dataset and gain          insight into the linear relationships in the data. Following are the list of latent variables:\n",
    " Highschool graduation rates,Median population age,Second mortgage statistics,Percent own,Bad debt expense"
   ]
  },
  {
   "cell_type": "code",
   "execution_count": 51,
   "id": "60910ccc",
   "metadata": {},
   "outputs": [],
   "source": [
    "def cat_variables(df):\n",
    "    cat_variables = list(df.select_dtypes(exclude = ['int', 'float']).columns)\n",
    "    return cat_variables"
   ]
  },
  {
   "cell_type": "code",
   "execution_count": 52,
   "id": "2ff6a7d3",
   "metadata": {},
   "outputs": [],
   "source": [
    "def num_variables(df):\n",
    "    num_variables = list(df.select_dtypes(include = ['int', 'float']).columns)\n",
    "    return num_variables"
   ]
  },
  {
   "cell_type": "code",
   "execution_count": 53,
   "id": "c1ec5b30",
   "metadata": {},
   "outputs": [
    {
     "data": {
      "text/html": [
       "<div>\n",
       "<style scoped>\n",
       "    .dataframe tbody tr th:only-of-type {\n",
       "        vertical-align: middle;\n",
       "    }\n",
       "\n",
       "    .dataframe tbody tr th {\n",
       "        vertical-align: top;\n",
       "    }\n",
       "\n",
       "    .dataframe thead th {\n",
       "        text-align: right;\n",
       "    }\n",
       "</style>\n",
       "<table border=\"1\" class=\"dataframe\">\n",
       "  <thead>\n",
       "    <tr style=\"text-align: right;\">\n",
       "      <th></th>\n",
       "      <th>UID</th>\n",
       "      <th>COUNTYID</th>\n",
       "      <th>STATEID</th>\n",
       "      <th>zip_code</th>\n",
       "      <th>area_code</th>\n",
       "      <th>lat</th>\n",
       "      <th>lng</th>\n",
       "      <th>ALand</th>\n",
       "      <th>AWater</th>\n",
       "      <th>pop</th>\n",
       "      <th>...</th>\n",
       "      <th>married</th>\n",
       "      <th>married_snp</th>\n",
       "      <th>separated</th>\n",
       "      <th>divorced</th>\n",
       "      <th>Bad_Debt</th>\n",
       "      <th>Good_Debt</th>\n",
       "      <th>remaining income</th>\n",
       "      <th>pop_density</th>\n",
       "      <th>median_age</th>\n",
       "      <th>overall_rent_as_percentage</th>\n",
       "    </tr>\n",
       "  </thead>\n",
       "  <tbody>\n",
       "    <tr>\n",
       "      <th>0</th>\n",
       "      <td>267822</td>\n",
       "      <td>53</td>\n",
       "      <td>36</td>\n",
       "      <td>13346</td>\n",
       "      <td>315</td>\n",
       "      <td>42.840812</td>\n",
       "      <td>-75.501524</td>\n",
       "      <td>2.021834e+08</td>\n",
       "      <td>1699120</td>\n",
       "      <td>5230</td>\n",
       "      <td>...</td>\n",
       "      <td>0.57851</td>\n",
       "      <td>0.01882</td>\n",
       "      <td>0.01240</td>\n",
       "      <td>0.08770</td>\n",
       "      <td>0.09408</td>\n",
       "      <td>0.43555</td>\n",
       "      <td>4868.86384</td>\n",
       "      <td>0.000026</td>\n",
       "      <td>44.667430</td>\n",
       "      <td>1.218824</td>\n",
       "    </tr>\n",
       "    <tr>\n",
       "      <th>1</th>\n",
       "      <td>246444</td>\n",
       "      <td>141</td>\n",
       "      <td>18</td>\n",
       "      <td>46616</td>\n",
       "      <td>574</td>\n",
       "      <td>41.701441</td>\n",
       "      <td>-86.266614</td>\n",
       "      <td>1.560828e+06</td>\n",
       "      <td>100363</td>\n",
       "      <td>2633</td>\n",
       "      <td>...</td>\n",
       "      <td>0.34886</td>\n",
       "      <td>0.01426</td>\n",
       "      <td>0.01426</td>\n",
       "      <td>0.09030</td>\n",
       "      <td>0.04274</td>\n",
       "      <td>0.56581</td>\n",
       "      <td>8738.17744</td>\n",
       "      <td>0.001687</td>\n",
       "      <td>34.722748</td>\n",
       "      <td>1.919490</td>\n",
       "    </tr>\n",
       "    <tr>\n",
       "      <th>2</th>\n",
       "      <td>245683</td>\n",
       "      <td>63</td>\n",
       "      <td>18</td>\n",
       "      <td>46122</td>\n",
       "      <td>317</td>\n",
       "      <td>39.792202</td>\n",
       "      <td>-86.515246</td>\n",
       "      <td>6.956160e+07</td>\n",
       "      <td>284193</td>\n",
       "      <td>6881</td>\n",
       "      <td>...</td>\n",
       "      <td>0.64745</td>\n",
       "      <td>0.02830</td>\n",
       "      <td>0.01607</td>\n",
       "      <td>0.10657</td>\n",
       "      <td>0.09512</td>\n",
       "      <td>0.63972</td>\n",
       "      <td>10319.83114</td>\n",
       "      <td>0.000099</td>\n",
       "      <td>41.774472</td>\n",
       "      <td>0.874441</td>\n",
       "    </tr>\n",
       "    <tr>\n",
       "      <th>3</th>\n",
       "      <td>279653</td>\n",
       "      <td>127</td>\n",
       "      <td>72</td>\n",
       "      <td>927</td>\n",
       "      <td>787</td>\n",
       "      <td>18.396103</td>\n",
       "      <td>-66.104169</td>\n",
       "      <td>1.105793e+06</td>\n",
       "      <td>0</td>\n",
       "      <td>2700</td>\n",
       "      <td>...</td>\n",
       "      <td>0.47257</td>\n",
       "      <td>0.02021</td>\n",
       "      <td>0.02021</td>\n",
       "      <td>0.10106</td>\n",
       "      <td>0.01086</td>\n",
       "      <td>0.51628</td>\n",
       "      <td>7668.01017</td>\n",
       "      <td>0.002442</td>\n",
       "      <td>49.879012</td>\n",
       "      <td>1.648594</td>\n",
       "    </tr>\n",
       "    <tr>\n",
       "      <th>4</th>\n",
       "      <td>247218</td>\n",
       "      <td>161</td>\n",
       "      <td>20</td>\n",
       "      <td>66502</td>\n",
       "      <td>785</td>\n",
       "      <td>39.195573</td>\n",
       "      <td>-96.569366</td>\n",
       "      <td>2.554403e+06</td>\n",
       "      <td>0</td>\n",
       "      <td>5637</td>\n",
       "      <td>...</td>\n",
       "      <td>0.12356</td>\n",
       "      <td>0.00000</td>\n",
       "      <td>0.00000</td>\n",
       "      <td>0.03109</td>\n",
       "      <td>0.05426</td>\n",
       "      <td>0.46512</td>\n",
       "      <td>22219.26930</td>\n",
       "      <td>0.002207</td>\n",
       "      <td>21.965629</td>\n",
       "      <td>2.948295</td>\n",
       "    </tr>\n",
       "    <tr>\n",
       "      <th>...</th>\n",
       "      <td>...</td>\n",
       "      <td>...</td>\n",
       "      <td>...</td>\n",
       "      <td>...</td>\n",
       "      <td>...</td>\n",
       "      <td>...</td>\n",
       "      <td>...</td>\n",
       "      <td>...</td>\n",
       "      <td>...</td>\n",
       "      <td>...</td>\n",
       "      <td>...</td>\n",
       "      <td>...</td>\n",
       "      <td>...</td>\n",
       "      <td>...</td>\n",
       "      <td>...</td>\n",
       "      <td>...</td>\n",
       "      <td>...</td>\n",
       "      <td>...</td>\n",
       "      <td>...</td>\n",
       "      <td>...</td>\n",
       "      <td>...</td>\n",
       "    </tr>\n",
       "    <tr>\n",
       "      <th>27316</th>\n",
       "      <td>279212</td>\n",
       "      <td>43</td>\n",
       "      <td>72</td>\n",
       "      <td>769</td>\n",
       "      <td>787</td>\n",
       "      <td>18.076060</td>\n",
       "      <td>-66.358379</td>\n",
       "      <td>6.970300e+05</td>\n",
       "      <td>0</td>\n",
       "      <td>1847</td>\n",
       "      <td>...</td>\n",
       "      <td>0.24603</td>\n",
       "      <td>0.03042</td>\n",
       "      <td>0.02249</td>\n",
       "      <td>0.14683</td>\n",
       "      <td>0.00000</td>\n",
       "      <td>0.11694</td>\n",
       "      <td>2373.47596</td>\n",
       "      <td>0.002650</td>\n",
       "      <td>40.904894</td>\n",
       "      <td>2.373278</td>\n",
       "    </tr>\n",
       "    <tr>\n",
       "      <th>27317</th>\n",
       "      <td>277856</td>\n",
       "      <td>91</td>\n",
       "      <td>42</td>\n",
       "      <td>19422</td>\n",
       "      <td>215</td>\n",
       "      <td>40.158138</td>\n",
       "      <td>-75.307271</td>\n",
       "      <td>5.077337e+06</td>\n",
       "      <td>11786</td>\n",
       "      <td>4155</td>\n",
       "      <td>...</td>\n",
       "      <td>0.61127</td>\n",
       "      <td>0.05003</td>\n",
       "      <td>0.02473</td>\n",
       "      <td>0.04888</td>\n",
       "      <td>0.20908</td>\n",
       "      <td>0.44456</td>\n",
       "      <td>-993.01490</td>\n",
       "      <td>0.000818</td>\n",
       "      <td>39.160488</td>\n",
       "      <td>1.512392</td>\n",
       "    </tr>\n",
       "    <tr>\n",
       "      <th>27318</th>\n",
       "      <td>233000</td>\n",
       "      <td>87</td>\n",
       "      <td>8</td>\n",
       "      <td>80653</td>\n",
       "      <td>970</td>\n",
       "      <td>40.410316</td>\n",
       "      <td>-103.814003</td>\n",
       "      <td>1.323262e+09</td>\n",
       "      <td>17577610</td>\n",
       "      <td>2829</td>\n",
       "      <td>...</td>\n",
       "      <td>0.70451</td>\n",
       "      <td>0.01386</td>\n",
       "      <td>0.00520</td>\n",
       "      <td>0.07712</td>\n",
       "      <td>0.07857</td>\n",
       "      <td>0.50238</td>\n",
       "      <td>8988.31921</td>\n",
       "      <td>0.000002</td>\n",
       "      <td>44.089311</td>\n",
       "      <td>1.063197</td>\n",
       "    </tr>\n",
       "    <tr>\n",
       "      <th>27319</th>\n",
       "      <td>287425</td>\n",
       "      <td>439</td>\n",
       "      <td>48</td>\n",
       "      <td>76034</td>\n",
       "      <td>817</td>\n",
       "      <td>32.904866</td>\n",
       "      <td>-97.162151</td>\n",
       "      <td>1.865230e+07</td>\n",
       "      <td>158882</td>\n",
       "      <td>11542</td>\n",
       "      <td>...</td>\n",
       "      <td>0.75503</td>\n",
       "      <td>0.02287</td>\n",
       "      <td>0.00915</td>\n",
       "      <td>0.05261</td>\n",
       "      <td>0.14305</td>\n",
       "      <td>0.51417</td>\n",
       "      <td>1638.56660</td>\n",
       "      <td>0.000619</td>\n",
       "      <td>45.029280</td>\n",
       "      <td>1.191743</td>\n",
       "    </tr>\n",
       "    <tr>\n",
       "      <th>27320</th>\n",
       "      <td>265371</td>\n",
       "      <td>3</td>\n",
       "      <td>32</td>\n",
       "      <td>89123</td>\n",
       "      <td>702</td>\n",
       "      <td>36.064754</td>\n",
       "      <td>-115.152237</td>\n",
       "      <td>7.796308e+06</td>\n",
       "      <td>0</td>\n",
       "      <td>3726</td>\n",
       "      <td>...</td>\n",
       "      <td>0.34426</td>\n",
       "      <td>0.03825</td>\n",
       "      <td>0.03005</td>\n",
       "      <td>0.13320</td>\n",
       "      <td>0.18362</td>\n",
       "      <td>0.47175</td>\n",
       "      <td>3237.89124</td>\n",
       "      <td>0.000478</td>\n",
       "      <td>31.132312</td>\n",
       "      <td>1.839062</td>\n",
       "    </tr>\n",
       "  </tbody>\n",
       "</table>\n",
       "<p>27321 rows × 78 columns</p>\n",
       "</div>"
      ],
      "text/plain": [
       "          UID  COUNTYID  STATEID  zip_code  area_code        lat         lng  \\\n",
       "0      267822        53       36     13346        315  42.840812  -75.501524   \n",
       "1      246444       141       18     46616        574  41.701441  -86.266614   \n",
       "2      245683        63       18     46122        317  39.792202  -86.515246   \n",
       "3      279653       127       72       927        787  18.396103  -66.104169   \n",
       "4      247218       161       20     66502        785  39.195573  -96.569366   \n",
       "...       ...       ...      ...       ...        ...        ...         ...   \n",
       "27316  279212        43       72       769        787  18.076060  -66.358379   \n",
       "27317  277856        91       42     19422        215  40.158138  -75.307271   \n",
       "27318  233000        87        8     80653        970  40.410316 -103.814003   \n",
       "27319  287425       439       48     76034        817  32.904866  -97.162151   \n",
       "27320  265371         3       32     89123        702  36.064754 -115.152237   \n",
       "\n",
       "              ALand    AWater    pop  ...  married  married_snp  separated  \\\n",
       "0      2.021834e+08   1699120   5230  ...  0.57851      0.01882    0.01240   \n",
       "1      1.560828e+06    100363   2633  ...  0.34886      0.01426    0.01426   \n",
       "2      6.956160e+07    284193   6881  ...  0.64745      0.02830    0.01607   \n",
       "3      1.105793e+06         0   2700  ...  0.47257      0.02021    0.02021   \n",
       "4      2.554403e+06         0   5637  ...  0.12356      0.00000    0.00000   \n",
       "...             ...       ...    ...  ...      ...          ...        ...   \n",
       "27316  6.970300e+05         0   1847  ...  0.24603      0.03042    0.02249   \n",
       "27317  5.077337e+06     11786   4155  ...  0.61127      0.05003    0.02473   \n",
       "27318  1.323262e+09  17577610   2829  ...  0.70451      0.01386    0.00520   \n",
       "27319  1.865230e+07    158882  11542  ...  0.75503      0.02287    0.00915   \n",
       "27320  7.796308e+06         0   3726  ...  0.34426      0.03825    0.03005   \n",
       "\n",
       "       divorced  Bad_Debt  Good_Debt  remaining income  pop_density  \\\n",
       "0       0.08770   0.09408    0.43555        4868.86384     0.000026   \n",
       "1       0.09030   0.04274    0.56581        8738.17744     0.001687   \n",
       "2       0.10657   0.09512    0.63972       10319.83114     0.000099   \n",
       "3       0.10106   0.01086    0.51628        7668.01017     0.002442   \n",
       "4       0.03109   0.05426    0.46512       22219.26930     0.002207   \n",
       "...         ...       ...        ...               ...          ...   \n",
       "27316   0.14683   0.00000    0.11694        2373.47596     0.002650   \n",
       "27317   0.04888   0.20908    0.44456        -993.01490     0.000818   \n",
       "27318   0.07712   0.07857    0.50238        8988.31921     0.000002   \n",
       "27319   0.05261   0.14305    0.51417        1638.56660     0.000619   \n",
       "27320   0.13320   0.18362    0.47175        3237.89124     0.000478   \n",
       "\n",
       "       median_age  overall_rent_as_percentage  \n",
       "0       44.667430                    1.218824  \n",
       "1       34.722748                    1.919490  \n",
       "2       41.774472                    0.874441  \n",
       "3       49.879012                    1.648594  \n",
       "4       21.965629                    2.948295  \n",
       "...           ...                         ...  \n",
       "27316   40.904894                    2.373278  \n",
       "27317   39.160488                    1.512392  \n",
       "27318   44.089311                    1.063197  \n",
       "27319   45.029280                    1.191743  \n",
       "27320   31.132312                    1.839062  \n",
       "\n",
       "[27321 rows x 78 columns]"
      ]
     },
     "execution_count": 53,
     "metadata": {},
     "output_type": "execute_result"
    }
   ],
   "source": [
    "fa_train_df = train_df[num_variables(train_df)]\n",
    "fa_train_df"
   ]
  },
  {
   "cell_type": "code",
   "execution_count": 54,
   "id": "5dfe5a25",
   "metadata": {},
   "outputs": [],
   "source": [
    "from factor_analyzer import FactorAnalyzer\n",
    "import warnings\n",
    "warnings.filterwarnings('ignore')"
   ]
  },
  {
   "cell_type": "code",
   "execution_count": 55,
   "id": "b6952c9e",
   "metadata": {},
   "outputs": [
    {
     "name": "stdout",
     "output_type": "stream",
     "text": [
      "Requirement already satisfied: factor_analyzer in f:\\new folder\\lib\\site-packages (0.4.1)\n",
      "Requirement already satisfied: pre-commit in f:\\new folder\\lib\\site-packages (from factor_analyzer) (2.20.0)\n",
      "Requirement already satisfied: numpy in f:\\new folder\\lib\\site-packages (from factor_analyzer) (1.21.5)\n",
      "Requirement already satisfied: scikit-learn in f:\\new folder\\lib\\site-packages (from factor_analyzer) (1.0.2)\n",
      "Requirement already satisfied: scipy in f:\\new folder\\lib\\site-packages (from factor_analyzer) (1.7.3)\n",
      "Requirement already satisfied: pandas in f:\\new folder\\lib\\site-packages (from factor_analyzer) (1.4.2)\n",
      "Requirement already satisfied: pytz>=2020.1 in f:\\new folder\\lib\\site-packages (from pandas->factor_analyzer) (2021.3)\n",
      "Requirement already satisfied: python-dateutil>=2.8.1 in f:\\new folder\\lib\\site-packages (from pandas->factor_analyzer) (2.8.2)\n",
      "Requirement already satisfied: six>=1.5 in f:\\new folder\\lib\\site-packages (from python-dateutil>=2.8.1->pandas->factor_analyzer) (1.16.0)\n",
      "Requirement already satisfied: identify>=1.0.0 in f:\\new folder\\lib\\site-packages (from pre-commit->factor_analyzer) (2.5.11)\n",
      "Requirement already satisfied: toml in f:\\new folder\\lib\\site-packages (from pre-commit->factor_analyzer) (0.10.2)\n",
      "Requirement already satisfied: virtualenv>=20.0.8 in f:\\new folder\\lib\\site-packages (from pre-commit->factor_analyzer) (20.17.1)\n",
      "Requirement already satisfied: nodeenv>=0.11.1 in f:\\new folder\\lib\\site-packages (from pre-commit->factor_analyzer) (1.7.0)\n",
      "Requirement already satisfied: cfgv>=2.0.0 in f:\\new folder\\lib\\site-packages (from pre-commit->factor_analyzer) (3.3.1)\n",
      "Requirement already satisfied: pyyaml>=5.1 in f:\\new folder\\lib\\site-packages (from pre-commit->factor_analyzer) (6.0)\n",
      "Requirement already satisfied: setuptools in f:\\new folder\\lib\\site-packages (from nodeenv>=0.11.1->pre-commit->factor_analyzer) (61.2.0)\n",
      "Requirement already satisfied: filelock<4,>=3.4.1 in f:\\new folder\\lib\\site-packages (from virtualenv>=20.0.8->pre-commit->factor_analyzer) (3.6.0)\n",
      "Requirement already satisfied: platformdirs<3,>=2.4 in f:\\new folder\\lib\\site-packages (from virtualenv>=20.0.8->pre-commit->factor_analyzer) (2.6.0)\n",
      "Requirement already satisfied: distlib<1,>=0.3.6 in f:\\new folder\\lib\\site-packages (from virtualenv>=20.0.8->pre-commit->factor_analyzer) (0.3.6)\n",
      "Requirement already satisfied: threadpoolctl>=2.0.0 in f:\\new folder\\lib\\site-packages (from scikit-learn->factor_analyzer) (2.2.0)\n",
      "Requirement already satisfied: joblib>=0.11 in f:\\new folder\\lib\\site-packages (from scikit-learn->factor_analyzer) (1.1.0)\n",
      "Note: you may need to restart the kernel to use updated packages.\n"
     ]
    }
   ],
   "source": [
    "pip install factor_analyzer"
   ]
  },
  {
   "cell_type": "code",
   "execution_count": 56,
   "id": "53f242bb",
   "metadata": {},
   "outputs": [],
   "source": [
    "from sklearn.decomposition import FactorAnalysis\n",
    "from factor_analyzer import FactorAnalyzer"
   ]
  },
  {
   "cell_type": "code",
   "execution_count": 57,
   "id": "379b1225",
   "metadata": {},
   "outputs": [],
   "source": [
    "fa_train_df = fa_train_df[fa_train_df.columns[~fa_train_df.columns.isin(['SUMLEVEL', 'lat', 'lng','ALand'])]]"
   ]
  },
  {
   "cell_type": "code",
   "execution_count": 58,
   "id": "79e6ec22",
   "metadata": {},
   "outputs": [
    {
     "data": {
      "text/plain": [
       "FactorAnalyzer(n_factors=25, rotation=None, rotation_kwargs={})"
      ]
     },
     "execution_count": 58,
     "metadata": {},
     "output_type": "execute_result"
    }
   ],
   "source": [
    "fa = FactorAnalyzer( rotation=None, n_factors = 25)\n",
    "fa.fit(fa_train_df)"
   ]
  },
  {
   "cell_type": "markdown",
   "id": "c3e9a36b",
   "metadata": {},
   "source": [
    "### Build a linear Regression model to predict the total monthly expenditure for home mortgages loan."
   ]
  },
  {
   "cell_type": "code",
   "execution_count": 59,
   "id": "0f3def14",
   "metadata": {},
   "outputs": [
    {
     "data": {
      "text/plain": [
       "Index(['UID', 'COUNTYID', 'STATEID', 'state', 'state_ab', 'city', 'place',\n",
       "       'type', 'primary', 'zip_code', 'area_code', 'lat', 'lng', 'ALand',\n",
       "       'AWater', 'pop', 'male_pop', 'female_pop', 'rent_mean', 'rent_median',\n",
       "       'rent_stdev', 'rent_sample_weight', 'rent_samples', 'rent_gt_10',\n",
       "       'rent_gt_15', 'rent_gt_20', 'rent_gt_25', 'rent_gt_30', 'rent_gt_35',\n",
       "       'rent_gt_40', 'rent_gt_50', 'universe_samples', 'used_samples',\n",
       "       'hi_mean', 'hi_median', 'hi_stdev', 'hi_sample_weight', 'hi_samples',\n",
       "       'family_mean', 'family_median', 'family_stdev', 'family_sample_weight',\n",
       "       'family_samples', 'hc_mortgage_mean', 'hc_mortgage_median',\n",
       "       'hc_mortgage_stdev', 'hc_mortgage_sample_weight', 'hc_mortgage_samples',\n",
       "       'hc_mean', 'hc_median', 'hc_stdev', 'hc_samples', 'hc_sample_weight',\n",
       "       'home_equity_second_mortgage', 'second_mortgage', 'home_equity', 'debt',\n",
       "       'second_mortgage_cdf', 'home_equity_cdf', 'debt_cdf', 'hs_degree',\n",
       "       'hs_degree_male', 'hs_degree_female', 'male_age_mean',\n",
       "       'male_age_median', 'male_age_stdev', 'male_age_sample_weight',\n",
       "       'male_age_samples', 'female_age_mean', 'female_age_median',\n",
       "       'female_age_stdev', 'female_age_sample_weight', 'female_age_samples',\n",
       "       'pct_own', 'married', 'married_snp', 'separated', 'divorced',\n",
       "       'Bad_Debt', 'Good_Debt', 'remaining income', 'pop_density',\n",
       "       'median_age', 'pop_category', 'overall_rent_as_percentage'],\n",
       "      dtype='object')"
      ]
     },
     "execution_count": 59,
     "metadata": {},
     "output_type": "execute_result"
    }
   ],
   "source": [
    "train_df.columns"
   ]
  },
  {
   "cell_type": "code",
   "execution_count": 60,
   "id": "5781c615",
   "metadata": {},
   "outputs": [
    {
     "data": {
      "text/plain": [
       "married_snp                     0\n",
       "separated                       0\n",
       "divorced                        0\n",
       "Bad_Debt                        0\n",
       "Good_Debt                       0\n",
       "remaining income                0\n",
       "pop_density                     0\n",
       "median_age                    182\n",
       "pop_category                    0\n",
       "overall_rent_as_percentage      0\n",
       "dtype: int64"
      ]
     },
     "execution_count": 60,
     "metadata": {},
     "output_type": "execute_result"
    }
   ],
   "source": [
    "train_df.isnull().sum().tail(10)"
   ]
  },
  {
   "cell_type": "code",
   "execution_count": 61,
   "id": "36527cc5",
   "metadata": {},
   "outputs": [],
   "source": [
    "train_df.median_age.fillna(train_df.median_age.median(),inplace=True)"
   ]
  },
  {
   "cell_type": "code",
   "execution_count": 62,
   "id": "f98db246",
   "metadata": {},
   "outputs": [
    {
     "data": {
      "text/plain": [
       "0"
      ]
     },
     "execution_count": 62,
     "metadata": {},
     "output_type": "execute_result"
    }
   ],
   "source": [
    "train_df.isnull().sum().sum()"
   ]
  },
  {
   "cell_type": "code",
   "execution_count": 63,
   "id": "9c3306ad",
   "metadata": {},
   "outputs": [
    {
     "data": {
      "text/plain": [
       "array(['City', 'Urban', 'Town', 'CDP', 'Village', 'Borough'], dtype=object)"
      ]
     },
     "execution_count": 63,
     "metadata": {},
     "output_type": "execute_result"
    }
   ],
   "source": [
    "train_df['type'].unique()"
   ]
  },
  {
   "cell_type": "code",
   "execution_count": 64,
   "id": "2d33283f",
   "metadata": {},
   "outputs": [],
   "source": [
    "from sklearn import preprocessing\n"
   ]
  },
  {
   "cell_type": "code",
   "execution_count": 65,
   "id": "c88d8a08",
   "metadata": {},
   "outputs": [],
   "source": [
    "le = preprocessing.LabelEncoder()"
   ]
  },
  {
   "cell_type": "code",
   "execution_count": 66,
   "id": "6283dbb1",
   "metadata": {},
   "outputs": [],
   "source": [
    "train_df['type'] = le.fit_transform(train_df['type'])\n"
   ]
  },
  {
   "cell_type": "code",
   "execution_count": 67,
   "id": "ab5c3988",
   "metadata": {},
   "outputs": [
    {
     "data": {
      "text/plain": [
       "array([2, 4, 3, 1, 5, 0])"
      ]
     },
     "execution_count": 67,
     "metadata": {},
     "output_type": "execute_result"
    }
   ],
   "source": [
    "train_df['type'].unique()"
   ]
  },
  {
   "cell_type": "code",
   "execution_count": 68,
   "id": "e1b2029f",
   "metadata": {},
   "outputs": [],
   "source": [
    "test_df['type'] = le.fit_transform(test_df['type'])"
   ]
  },
  {
   "cell_type": "code",
   "execution_count": 69,
   "id": "20e68e2c",
   "metadata": {},
   "outputs": [
    {
     "data": {
      "text/plain": [
       "array([1, 2, 0, 3, 5, 4])"
      ]
     },
     "execution_count": 69,
     "metadata": {},
     "output_type": "execute_result"
    }
   ],
   "source": [
    "test_df['type'].unique()"
   ]
  },
  {
   "cell_type": "code",
   "execution_count": 70,
   "id": "f2d57523",
   "metadata": {},
   "outputs": [],
   "source": [
    "x_train=train_df.drop(columns=['hc_mortgage_mean','state', 'state_ab', 'city','place','primary','median_age','Bad_Debt', 'Good_Debt', 'remaining income', 'pop_density', 'pop_category', 'overall_rent_as_percentage',])\n",
    "y_train=train_df['hc_mortgage_mean']"
   ]
  },
  {
   "cell_type": "code",
   "execution_count": 71,
   "id": "14c80fb1",
   "metadata": {},
   "outputs": [],
   "source": [
    "x_test=test_df.drop(columns=['hc_mortgage_mean','state', 'state_ab', 'city','place','primary'])\n",
    "y_test=test_df['hc_mortgage_mean']"
   ]
  },
  {
   "cell_type": "code",
   "execution_count": 72,
   "id": "6238fc56",
   "metadata": {},
   "outputs": [
    {
     "data": {
      "text/plain": [
       "LinearRegression()"
      ]
     },
     "execution_count": 72,
     "metadata": {},
     "output_type": "execute_result"
    }
   ],
   "source": [
    "from sklearn.linear_model import LinearRegression\n",
    "regressor= LinearRegression()\n",
    "regressor.fit(x_train,y_train)"
   ]
  },
  {
   "cell_type": "code",
   "execution_count": 73,
   "id": "78dc8448",
   "metadata": {},
   "outputs": [],
   "source": [
    "y_pred=regressor.predict(x_test)"
   ]
  },
  {
   "cell_type": "code",
   "execution_count": 74,
   "id": "0419447c",
   "metadata": {},
   "outputs": [
    {
     "data": {
      "text/plain": [
       "array([1136.7291915 , 1514.17264188, 1219.59797135, ..., 1854.1775953 ,\n",
       "       1158.80679897, 1384.541872  ])"
      ]
     },
     "execution_count": 74,
     "metadata": {},
     "output_type": "execute_result"
    }
   ],
   "source": [
    "y_pred"
   ]
  },
  {
   "cell_type": "code",
   "execution_count": 75,
   "id": "2dc7b2ac",
   "metadata": {},
   "outputs": [],
   "source": [
    "from sklearn.metrics import accuracy_score,r2_score"
   ]
  },
  {
   "cell_type": "code",
   "execution_count": 76,
   "id": "a75216ee",
   "metadata": {},
   "outputs": [
    {
     "data": {
      "text/plain": [
       "0.9872195899754175"
      ]
     },
     "execution_count": 76,
     "metadata": {},
     "output_type": "execute_result"
    }
   ],
   "source": [
    "r2_score(y_test,y_pred)"
   ]
  },
  {
   "cell_type": "markdown",
   "id": "e8680e7c",
   "metadata": {},
   "source": [
    "since r2 value is high we no need to build another model at state level"
   ]
  },
  {
   "cell_type": "code",
   "execution_count": 77,
   "id": "c4c67192",
   "metadata": {},
   "outputs": [
    {
     "data": {
      "text/plain": [
       "0        -2.516288\n",
       "1       -19.087238\n",
       "2       -34.946649\n",
       "3        76.559858\n",
       "4         5.295772\n",
       "           ...    \n",
       "11704    32.214423\n",
       "11705   -40.369782\n",
       "11706    62.538575\n",
       "11707   -23.496851\n",
       "11708    20.368082\n",
       "Name: hc_mortgage_mean, Length: 11709, dtype: float64"
      ]
     },
     "execution_count": 77,
     "metadata": {},
     "output_type": "execute_result"
    }
   ],
   "source": [
    "residual=y_pred-y_test\n",
    "residual"
   ]
  },
  {
   "cell_type": "markdown",
   "id": "aa9132b6",
   "metadata": {},
   "source": [
    "### Ensure Multi-collinearity does not exist in dependent variables"
   ]
  },
  {
   "cell_type": "code",
   "execution_count": 78,
   "id": "74c40154",
   "metadata": {},
   "outputs": [],
   "source": [
    "corrmatrix=x_train.corr()"
   ]
  },
  {
   "cell_type": "code",
   "execution_count": 79,
   "id": "eb47bd14",
   "metadata": {},
   "outputs": [
    {
     "data": {
      "text/html": [
       "<div>\n",
       "<style scoped>\n",
       "    .dataframe tbody tr th:only-of-type {\n",
       "        vertical-align: middle;\n",
       "    }\n",
       "\n",
       "    .dataframe tbody tr th {\n",
       "        vertical-align: top;\n",
       "    }\n",
       "\n",
       "    .dataframe thead th {\n",
       "        text-align: right;\n",
       "    }\n",
       "</style>\n",
       "<table border=\"1\" class=\"dataframe\">\n",
       "  <thead>\n",
       "    <tr style=\"text-align: right;\">\n",
       "      <th></th>\n",
       "      <th>UID</th>\n",
       "      <th>COUNTYID</th>\n",
       "      <th>STATEID</th>\n",
       "      <th>type</th>\n",
       "      <th>zip_code</th>\n",
       "      <th>area_code</th>\n",
       "      <th>lat</th>\n",
       "      <th>lng</th>\n",
       "      <th>ALand</th>\n",
       "      <th>AWater</th>\n",
       "      <th>...</th>\n",
       "      <th>female_age_mean</th>\n",
       "      <th>female_age_median</th>\n",
       "      <th>female_age_stdev</th>\n",
       "      <th>female_age_sample_weight</th>\n",
       "      <th>female_age_samples</th>\n",
       "      <th>pct_own</th>\n",
       "      <th>married</th>\n",
       "      <th>married_snp</th>\n",
       "      <th>separated</th>\n",
       "      <th>divorced</th>\n",
       "    </tr>\n",
       "  </thead>\n",
       "  <tbody>\n",
       "    <tr>\n",
       "      <th>UID</th>\n",
       "      <td>1.000000</td>\n",
       "      <td>0.263038</td>\n",
       "      <td>0.977755</td>\n",
       "      <td>0.111657</td>\n",
       "      <td>-0.224130</td>\n",
       "      <td>0.024122</td>\n",
       "      <td>0.178038</td>\n",
       "      <td>0.290042</td>\n",
       "      <td>-0.017897</td>\n",
       "      <td>-0.028483</td>\n",
       "      <td>...</td>\n",
       "      <td>-0.025785</td>\n",
       "      <td>-0.018491</td>\n",
       "      <td>0.051740</td>\n",
       "      <td>-0.020807</td>\n",
       "      <td>-0.023511</td>\n",
       "      <td>0.070898</td>\n",
       "      <td>0.039896</td>\n",
       "      <td>-0.036639</td>\n",
       "      <td>0.020345</td>\n",
       "      <td>0.013226</td>\n",
       "    </tr>\n",
       "    <tr>\n",
       "      <th>COUNTYID</th>\n",
       "      <td>0.263038</td>\n",
       "      <td>1.000000</td>\n",
       "      <td>0.224549</td>\n",
       "      <td>0.150411</td>\n",
       "      <td>0.036527</td>\n",
       "      <td>0.067171</td>\n",
       "      <td>-0.149272</td>\n",
       "      <td>0.070414</td>\n",
       "      <td>0.015469</td>\n",
       "      <td>0.016550</td>\n",
       "      <td>...</td>\n",
       "      <td>-0.056527</td>\n",
       "      <td>-0.055951</td>\n",
       "      <td>-0.005553</td>\n",
       "      <td>0.004587</td>\n",
       "      <td>-0.001227</td>\n",
       "      <td>-0.004632</td>\n",
       "      <td>-0.021428</td>\n",
       "      <td>0.041710</td>\n",
       "      <td>0.069059</td>\n",
       "      <td>0.048850</td>\n",
       "    </tr>\n",
       "    <tr>\n",
       "      <th>STATEID</th>\n",
       "      <td>0.977755</td>\n",
       "      <td>0.224549</td>\n",
       "      <td>1.000000</td>\n",
       "      <td>0.158610</td>\n",
       "      <td>-0.261465</td>\n",
       "      <td>0.043718</td>\n",
       "      <td>0.109934</td>\n",
       "      <td>0.319964</td>\n",
       "      <td>-0.017275</td>\n",
       "      <td>-0.026476</td>\n",
       "      <td>...</td>\n",
       "      <td>-0.017443</td>\n",
       "      <td>-0.012448</td>\n",
       "      <td>0.057233</td>\n",
       "      <td>-0.025104</td>\n",
       "      <td>-0.028238</td>\n",
       "      <td>0.069314</td>\n",
       "      <td>0.025763</td>\n",
       "      <td>-0.033283</td>\n",
       "      <td>0.030409</td>\n",
       "      <td>0.018748</td>\n",
       "    </tr>\n",
       "    <tr>\n",
       "      <th>type</th>\n",
       "      <td>0.111657</td>\n",
       "      <td>0.150411</td>\n",
       "      <td>0.158610</td>\n",
       "      <td>1.000000</td>\n",
       "      <td>0.085926</td>\n",
       "      <td>0.041474</td>\n",
       "      <td>-0.072899</td>\n",
       "      <td>0.047183</td>\n",
       "      <td>-0.015913</td>\n",
       "      <td>-0.005372</td>\n",
       "      <td>...</td>\n",
       "      <td>-0.048394</td>\n",
       "      <td>-0.039982</td>\n",
       "      <td>0.003013</td>\n",
       "      <td>0.015848</td>\n",
       "      <td>0.020566</td>\n",
       "      <td>-0.013939</td>\n",
       "      <td>0.007844</td>\n",
       "      <td>0.006624</td>\n",
       "      <td>0.030962</td>\n",
       "      <td>0.015621</td>\n",
       "    </tr>\n",
       "    <tr>\n",
       "      <th>zip_code</th>\n",
       "      <td>-0.224130</td>\n",
       "      <td>0.036527</td>\n",
       "      <td>-0.261465</td>\n",
       "      <td>0.085926</td>\n",
       "      <td>1.000000</td>\n",
       "      <td>-0.004681</td>\n",
       "      <td>-0.070775</td>\n",
       "      <td>-0.926708</td>\n",
       "      <td>0.072711</td>\n",
       "      <td>0.031679</td>\n",
       "      <td>...</td>\n",
       "      <td>-0.138374</td>\n",
       "      <td>-0.136018</td>\n",
       "      <td>-0.049770</td>\n",
       "      <td>0.055497</td>\n",
       "      <td>0.059305</td>\n",
       "      <td>-0.069965</td>\n",
       "      <td>0.030217</td>\n",
       "      <td>0.020541</td>\n",
       "      <td>-0.048023</td>\n",
       "      <td>0.043310</td>\n",
       "    </tr>\n",
       "    <tr>\n",
       "      <th>...</th>\n",
       "      <td>...</td>\n",
       "      <td>...</td>\n",
       "      <td>...</td>\n",
       "      <td>...</td>\n",
       "      <td>...</td>\n",
       "      <td>...</td>\n",
       "      <td>...</td>\n",
       "      <td>...</td>\n",
       "      <td>...</td>\n",
       "      <td>...</td>\n",
       "      <td>...</td>\n",
       "      <td>...</td>\n",
       "      <td>...</td>\n",
       "      <td>...</td>\n",
       "      <td>...</td>\n",
       "      <td>...</td>\n",
       "      <td>...</td>\n",
       "      <td>...</td>\n",
       "      <td>...</td>\n",
       "      <td>...</td>\n",
       "      <td>...</td>\n",
       "    </tr>\n",
       "    <tr>\n",
       "      <th>pct_own</th>\n",
       "      <td>0.070898</td>\n",
       "      <td>-0.004632</td>\n",
       "      <td>0.069314</td>\n",
       "      <td>-0.013939</td>\n",
       "      <td>-0.069965</td>\n",
       "      <td>0.018877</td>\n",
       "      <td>0.056487</td>\n",
       "      <td>0.092919</td>\n",
       "      <td>0.050596</td>\n",
       "      <td>0.010334</td>\n",
       "      <td>...</td>\n",
       "      <td>0.418828</td>\n",
       "      <td>0.513393</td>\n",
       "      <td>0.322525</td>\n",
       "      <td>0.012978</td>\n",
       "      <td>0.091016</td>\n",
       "      <td>1.000000</td>\n",
       "      <td>0.683960</td>\n",
       "      <td>-0.386858</td>\n",
       "      <td>-0.284877</td>\n",
       "      <td>-0.095413</td>\n",
       "    </tr>\n",
       "    <tr>\n",
       "      <th>married</th>\n",
       "      <td>0.039896</td>\n",
       "      <td>-0.021428</td>\n",
       "      <td>0.025763</td>\n",
       "      <td>0.007844</td>\n",
       "      <td>0.030217</td>\n",
       "      <td>0.057824</td>\n",
       "      <td>0.035480</td>\n",
       "      <td>-0.030630</td>\n",
       "      <td>0.028288</td>\n",
       "      <td>-0.000563</td>\n",
       "      <td>...</td>\n",
       "      <td>0.335879</td>\n",
       "      <td>0.434144</td>\n",
       "      <td>0.315058</td>\n",
       "      <td>0.066276</td>\n",
       "      <td>0.194697</td>\n",
       "      <td>0.683960</td>\n",
       "      <td>1.000000</td>\n",
       "      <td>-0.254350</td>\n",
       "      <td>-0.219686</td>\n",
       "      <td>-0.267833</td>\n",
       "    </tr>\n",
       "    <tr>\n",
       "      <th>married_snp</th>\n",
       "      <td>-0.036639</td>\n",
       "      <td>0.041710</td>\n",
       "      <td>-0.033283</td>\n",
       "      <td>0.006624</td>\n",
       "      <td>0.020541</td>\n",
       "      <td>0.022687</td>\n",
       "      <td>-0.158657</td>\n",
       "      <td>-0.037907</td>\n",
       "      <td>0.003447</td>\n",
       "      <td>0.005074</td>\n",
       "      <td>...</td>\n",
       "      <td>-0.136618</td>\n",
       "      <td>-0.176543</td>\n",
       "      <td>-0.066235</td>\n",
       "      <td>-0.076482</td>\n",
       "      <td>-0.070766</td>\n",
       "      <td>-0.386858</td>\n",
       "      <td>-0.254350</td>\n",
       "      <td>1.000000</td>\n",
       "      <td>0.668481</td>\n",
       "      <td>0.057364</td>\n",
       "    </tr>\n",
       "    <tr>\n",
       "      <th>separated</th>\n",
       "      <td>0.020345</td>\n",
       "      <td>0.069059</td>\n",
       "      <td>0.030409</td>\n",
       "      <td>0.030962</td>\n",
       "      <td>-0.048023</td>\n",
       "      <td>0.022543</td>\n",
       "      <td>-0.138048</td>\n",
       "      <td>0.049228</td>\n",
       "      <td>-0.005904</td>\n",
       "      <td>-0.001208</td>\n",
       "      <td>...</td>\n",
       "      <td>-0.071399</td>\n",
       "      <td>-0.104742</td>\n",
       "      <td>0.011029</td>\n",
       "      <td>-0.091913</td>\n",
       "      <td>-0.088709</td>\n",
       "      <td>-0.284877</td>\n",
       "      <td>-0.219686</td>\n",
       "      <td>0.668481</td>\n",
       "      <td>1.000000</td>\n",
       "      <td>0.133244</td>\n",
       "    </tr>\n",
       "    <tr>\n",
       "      <th>divorced</th>\n",
       "      <td>0.013226</td>\n",
       "      <td>0.048850</td>\n",
       "      <td>0.018748</td>\n",
       "      <td>0.015621</td>\n",
       "      <td>0.043310</td>\n",
       "      <td>-0.043722</td>\n",
       "      <td>-0.056018</td>\n",
       "      <td>-0.004321</td>\n",
       "      <td>0.023381</td>\n",
       "      <td>0.007677</td>\n",
       "      <td>...</td>\n",
       "      <td>0.190646</td>\n",
       "      <td>0.143505</td>\n",
       "      <td>0.167486</td>\n",
       "      <td>-0.198491</td>\n",
       "      <td>-0.169450</td>\n",
       "      <td>-0.095413</td>\n",
       "      <td>-0.267833</td>\n",
       "      <td>0.057364</td>\n",
       "      <td>0.133244</td>\n",
       "      <td>1.000000</td>\n",
       "    </tr>\n",
       "  </tbody>\n",
       "</table>\n",
       "<p>72 rows × 72 columns</p>\n",
       "</div>"
      ],
      "text/plain": [
       "                  UID  COUNTYID   STATEID      type  zip_code  area_code  \\\n",
       "UID          1.000000  0.263038  0.977755  0.111657 -0.224130   0.024122   \n",
       "COUNTYID     0.263038  1.000000  0.224549  0.150411  0.036527   0.067171   \n",
       "STATEID      0.977755  0.224549  1.000000  0.158610 -0.261465   0.043718   \n",
       "type         0.111657  0.150411  0.158610  1.000000  0.085926   0.041474   \n",
       "zip_code    -0.224130  0.036527 -0.261465  0.085926  1.000000  -0.004681   \n",
       "...               ...       ...       ...       ...       ...        ...   \n",
       "pct_own      0.070898 -0.004632  0.069314 -0.013939 -0.069965   0.018877   \n",
       "married      0.039896 -0.021428  0.025763  0.007844  0.030217   0.057824   \n",
       "married_snp -0.036639  0.041710 -0.033283  0.006624  0.020541   0.022687   \n",
       "separated    0.020345  0.069059  0.030409  0.030962 -0.048023   0.022543   \n",
       "divorced     0.013226  0.048850  0.018748  0.015621  0.043310  -0.043722   \n",
       "\n",
       "                  lat       lng     ALand    AWater  ...  female_age_mean  \\\n",
       "UID          0.178038  0.290042 -0.017897 -0.028483  ...        -0.025785   \n",
       "COUNTYID    -0.149272  0.070414  0.015469  0.016550  ...        -0.056527   \n",
       "STATEID      0.109934  0.319964 -0.017275 -0.026476  ...        -0.017443   \n",
       "type        -0.072899  0.047183 -0.015913 -0.005372  ...        -0.048394   \n",
       "zip_code    -0.070775 -0.926708  0.072711  0.031679  ...        -0.138374   \n",
       "...               ...       ...       ...       ...  ...              ...   \n",
       "pct_own      0.056487  0.092919  0.050596  0.010334  ...         0.418828   \n",
       "married      0.035480 -0.030630  0.028288 -0.000563  ...         0.335879   \n",
       "married_snp -0.158657 -0.037907  0.003447  0.005074  ...        -0.136618   \n",
       "separated   -0.138048  0.049228 -0.005904 -0.001208  ...        -0.071399   \n",
       "divorced    -0.056018 -0.004321  0.023381  0.007677  ...         0.190646   \n",
       "\n",
       "             female_age_median  female_age_stdev  female_age_sample_weight  \\\n",
       "UID                  -0.018491          0.051740                 -0.020807   \n",
       "COUNTYID             -0.055951         -0.005553                  0.004587   \n",
       "STATEID              -0.012448          0.057233                 -0.025104   \n",
       "type                 -0.039982          0.003013                  0.015848   \n",
       "zip_code             -0.136018         -0.049770                  0.055497   \n",
       "...                        ...               ...                       ...   \n",
       "pct_own               0.513393          0.322525                  0.012978   \n",
       "married               0.434144          0.315058                  0.066276   \n",
       "married_snp          -0.176543         -0.066235                 -0.076482   \n",
       "separated            -0.104742          0.011029                 -0.091913   \n",
       "divorced              0.143505          0.167486                 -0.198491   \n",
       "\n",
       "             female_age_samples   pct_own   married  married_snp  separated  \\\n",
       "UID                   -0.023511  0.070898  0.039896    -0.036639   0.020345   \n",
       "COUNTYID              -0.001227 -0.004632 -0.021428     0.041710   0.069059   \n",
       "STATEID               -0.028238  0.069314  0.025763    -0.033283   0.030409   \n",
       "type                   0.020566 -0.013939  0.007844     0.006624   0.030962   \n",
       "zip_code               0.059305 -0.069965  0.030217     0.020541  -0.048023   \n",
       "...                         ...       ...       ...          ...        ...   \n",
       "pct_own                0.091016  1.000000  0.683960    -0.386858  -0.284877   \n",
       "married                0.194697  0.683960  1.000000    -0.254350  -0.219686   \n",
       "married_snp           -0.070766 -0.386858 -0.254350     1.000000   0.668481   \n",
       "separated             -0.088709 -0.284877 -0.219686     0.668481   1.000000   \n",
       "divorced              -0.169450 -0.095413 -0.267833     0.057364   0.133244   \n",
       "\n",
       "             divorced  \n",
       "UID          0.013226  \n",
       "COUNTYID     0.048850  \n",
       "STATEID      0.018748  \n",
       "type         0.015621  \n",
       "zip_code     0.043310  \n",
       "...               ...  \n",
       "pct_own     -0.095413  \n",
       "married     -0.267833  \n",
       "married_snp  0.057364  \n",
       "separated    0.133244  \n",
       "divorced     1.000000  \n",
       "\n",
       "[72 rows x 72 columns]"
      ]
     },
     "execution_count": 79,
     "metadata": {},
     "output_type": "execute_result"
    }
   ],
   "source": [
    "corrmatrix"
   ]
  },
  {
   "cell_type": "code",
   "execution_count": 80,
   "id": "5c19e443",
   "metadata": {},
   "outputs": [],
   "source": [
    "correlated_cols=set()\n",
    "correlation_matrix=corrmatrix\n",
    "for i in range(len(correlation_matrix)):\n",
    "    for j in range(i):\n",
    "        if abs(correlation_matrix.iloc[i,j])> 0.8:\n",
    "            colname=correlation_matrix.columns[i]\n",
    "            correlated_cols.add(colname)\n",
    "                  "
   ]
  },
  {
   "cell_type": "code",
   "execution_count": 81,
   "id": "38aa2715",
   "metadata": {},
   "outputs": [
    {
     "data": {
      "text/plain": [
       "{'STATEID',\n",
       " 'debt_cdf',\n",
       " 'family_mean',\n",
       " 'family_median',\n",
       " 'family_sample_weight',\n",
       " 'family_samples',\n",
       " 'family_stdev',\n",
       " 'female_age_mean',\n",
       " 'female_age_median',\n",
       " 'female_age_sample_weight',\n",
       " 'female_age_samples',\n",
       " 'female_pop',\n",
       " 'hc_median',\n",
       " 'hc_mortgage_samples',\n",
       " 'hc_sample_weight',\n",
       " 'hi_median',\n",
       " 'hi_samples',\n",
       " 'hi_stdev',\n",
       " 'home_equity_cdf',\n",
       " 'hs_degree_female',\n",
       " 'hs_degree_male',\n",
       " 'lng',\n",
       " 'male_age_median',\n",
       " 'male_age_sample_weight',\n",
       " 'male_age_samples',\n",
       " 'male_pop',\n",
       " 'rent_gt_25',\n",
       " 'rent_gt_30',\n",
       " 'rent_gt_35',\n",
       " 'rent_gt_40',\n",
       " 'rent_gt_50',\n",
       " 'rent_median',\n",
       " 'rent_samples',\n",
       " 'second_mortgage',\n",
       " 'universe_samples',\n",
       " 'used_samples'}"
      ]
     },
     "execution_count": 81,
     "metadata": {},
     "output_type": "execute_result"
    }
   ],
   "source": [
    "correlated_cols"
   ]
  },
  {
   "cell_type": "code",
   "execution_count": 82,
   "id": "8cc6c94e",
   "metadata": {},
   "outputs": [],
   "source": [
    "corr_cols=['STATEID','debt_cdf','family_mean','family_median','family_sample_weight','family_samples','family_stdev','female_age_mean' ,'female_age_median','female_age_sample_weight','female_age_samples','female_pop','hc_median','hc_mortgage_samples','hc_sample_weight','hi_median','hi_samples','hi_stdev','home_equity_cdf','hs_degree_female','hs_degree_male','lng','male_age_median','male_age_sample_weight','male_age_samples','male_pop','rent_gt_25','rent_gt_30','rent_gt_35','rent_gt_40','rent_gt_50','rent_median','rent_samples','second_mortgage','universe_samples','used_samples']"
   ]
  },
  {
   "cell_type": "code",
   "execution_count": 83,
   "id": "0d6086ed",
   "metadata": {},
   "outputs": [],
   "source": [
    "train_df.drop(corr_cols,axis=1,inplace=True)"
   ]
  },
  {
   "cell_type": "code",
   "execution_count": 84,
   "id": "651442de",
   "metadata": {},
   "outputs": [],
   "source": [
    "test_df.drop(corr_cols,axis=1,inplace=True)"
   ]
  },
  {
   "cell_type": "code",
   "execution_count": 85,
   "id": "ec15fee2",
   "metadata": {},
   "outputs": [],
   "source": [
    "x_train=train_df.drop(columns=['hc_mortgage_mean','state', 'state_ab', 'city','place','primary','median_age','Bad_Debt', 'Good_Debt', 'remaining income', 'pop_density', 'pop_category', 'overall_rent_as_percentage',])\n",
    "y_train=train_df['hc_mortgage_mean']"
   ]
  },
  {
   "cell_type": "code",
   "execution_count": 86,
   "id": "fce1b7aa",
   "metadata": {},
   "outputs": [],
   "source": [
    "x_test=test_df.drop(columns=['hc_mortgage_mean','state', 'state_ab', 'city','place','primary'])\n",
    "y_test=test_df['hc_mortgage_mean']"
   ]
  },
  {
   "cell_type": "code",
   "execution_count": 87,
   "id": "66ea47d6",
   "metadata": {},
   "outputs": [
    {
     "data": {
      "text/plain": [
       "LinearRegression()"
      ]
     },
     "execution_count": 87,
     "metadata": {},
     "output_type": "execute_result"
    }
   ],
   "source": [
    "from sklearn.linear_model import LinearRegression\n",
    "regressor= LinearRegression()\n",
    "regressor.fit(x_train,y_train)"
   ]
  },
  {
   "cell_type": "code",
   "execution_count": 88,
   "id": "fb86bab3",
   "metadata": {},
   "outputs": [],
   "source": [
    "y_pred=regressor.predict(x_test)"
   ]
  },
  {
   "cell_type": "code",
   "execution_count": 89,
   "id": "105ca1cc",
   "metadata": {},
   "outputs": [
    {
     "data": {
      "text/plain": [
       "array([1142.50086138, 1510.25291878, 1221.91990194, ..., 1841.86638408,\n",
       "       1172.52518914, 1389.09749654])"
      ]
     },
     "execution_count": 89,
     "metadata": {},
     "output_type": "execute_result"
    }
   ],
   "source": [
    "y_pred"
   ]
  },
  {
   "cell_type": "code",
   "execution_count": 90,
   "id": "4cb5f3d2",
   "metadata": {},
   "outputs": [
    {
     "data": {
      "text/plain": [
       "0.9868957571516844"
      ]
     },
     "execution_count": 90,
     "metadata": {},
     "output_type": "execute_result"
    }
   ],
   "source": [
    "r2_score(y_test,y_pred)"
   ]
  },
  {
   "cell_type": "code",
   "execution_count": 91,
   "id": "bc41ba2c",
   "metadata": {},
   "outputs": [],
   "source": [
    "residual=y_pred-y_test"
   ]
  },
  {
   "cell_type": "markdown",
   "id": "bff05a34",
   "metadata": {},
   "source": [
    "### Test if predicted variable is normally distributed"
   ]
  },
  {
   "cell_type": "code",
   "execution_count": 92,
   "id": "2a4dc774",
   "metadata": {},
   "outputs": [
    {
     "data": {
      "text/plain": [
       "<AxesSubplot:xlabel='hc_mortgage_mean', ylabel='Density'>"
      ]
     },
     "execution_count": 92,
     "metadata": {},
     "output_type": "execute_result"
    },
    {
     "data": {
      "image/png": "[encoded data removed]",
      "text/plain": [
       "<Figure size 432x288 with 1 Axes>"
      ]
     },
     "metadata": {
      "needs_background": "light"
     },
     "output_type": "display_data"
    }
   ],
   "source": [
    "sns.distplot(residual)"
   ]
  },
  {
   "cell_type": "code",
   "execution_count": null,
   "id": "2d3d0ecd",
   "metadata": {},
   "outputs": [],
   "source": []
  }
 ],
 "metadata": {
  "kernelspec": {
   "display_name": "Python 3 (ipykernel)",
   "language": "python",
   "name": "python3"
  },
  "language_info": {
   "codemirror_mode": {
    "name": "ipython",
    "version": 3
   },
   "file_extension": ".py",
   "mimetype": "text/x-python",
   "name": "python",
   "nbconvert_exporter": "python",
   "pygments_lexer": "ipython3",
   "version": "3.10.8"
  }
 },
 "nbformat": 4,
 "nbformat_minor": 5
}
